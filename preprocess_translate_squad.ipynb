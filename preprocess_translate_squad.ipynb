{
  "nbformat": 4,
  "nbformat_minor": 0,
  "metadata": {
    "colab": {
      "name": "preprocess_translate_squad.ipynb",
      "provenance": [],
      "authorship_tag": "ABX9TyMXrUaxPXCyOOJIDD+PZAWN",
      "include_colab_link": true
    },
    "kernelspec": {
      "name": "python3",
      "display_name": "Python 3"
    },
    "language_info": {
      "name": "python"
    }
  },
  "cells": [
    {
      "cell_type": "markdown",
      "metadata": {
        "id": "view-in-github",
        "colab_type": "text"
      },
      "source": [
        "<a href=\"https://colab.research.google.com/github/pokjay/heb-squad/blob/main/preprocess_translate_squad.ipynb\" target=\"_parent\"><img src=\"https://colab.research.google.com/assets/colab-badge.svg\" alt=\"Open In Colab\"/></a>"
      ]
    },
    {
      "cell_type": "code",
      "metadata": {
        "id": "FSgXJ6Dm9VB3"
      },
      "source": [
        "import json"
      ],
      "execution_count": null,
      "outputs": []
    },
    {
      "cell_type": "markdown",
      "metadata": {
        "id": "qWLePGXP9lVG"
      },
      "source": [
        "## Convert SQuAD JSON file to Pandas DataFrame"
      ]
    },
    {
      "cell_type": "code",
      "metadata": {
        "id": "xu3LK6R29s_j"
      },
      "source": [
        "with open('/content//dev-v2.0.json') as f_handle:\n",
        "    dataset = json.load(f_handle)"
      ],
      "execution_count": null,
      "outputs": []
    },
    {
      "cell_type": "code",
      "metadata": {
        "id": "SlOJW2EH9xzZ"
      },
      "source": [
        "def handle_answer(qa, answer_field):\n",
        "\n",
        "  rows = []\n",
        "\n",
        "  for answer in qa[answer_field]:\n",
        "\n",
        "    q = qa['question']\n",
        "    qid = qa['id']\n",
        "    is_impossible = qa['is_impossible']\n",
        "    answer_end = answer['answer_start'] + len(answer['text'])\n",
        "                \n",
        "    context_marked = context[:answer['answer_start']] + \\\n",
        "                    '[0123] ' + \\\n",
        "                    context[answer['answer_start'] : answer_end] + \\\n",
        "                    ' [4567]' \\\n",
        "                    + context[answer_end:]\n",
        "                \n",
        "    row = {'article': article['title'],\n",
        "            'id': qid,\n",
        "            'context': context_marked,\n",
        "            'question': q,\n",
        "            'answer': answer['text'],\n",
        "            'answer_start': answer['answer_start'],\n",
        "            'answer_end': answer_end,\n",
        "            'is_impossible': int(is_impossible)}\n",
        "\n",
        "    row.append(row)\n",
        "  \n",
        "  return rows"
      ],
      "execution_count": null,
      "outputs": []
    },
    {
      "cell_type": "code",
      "metadata": {
        "id": "qvXHvuPG-lV0"
      },
      "source": [
        "rows = []\n",
        "\n",
        "for article in dataset['data']:\n",
        "  for p in article['paragraphs']:\n",
        "    # Some lines have \\n, we remove them as they screw up translation\n",
        "    context = p['context'].replace('\\n', '')\n",
        "    \n",
        "    for qa in p['qas']:\n",
        "      if 'answer' in qa:\n",
        "        rows.extend(handle_answer(qa, 'answer'))\n",
        "      if 'plausible_answers' in qa:\n",
        "        rows.extend(handle_answer(qa, 'plausible_answers'))\n",
        "      \n"
      ],
      "execution_count": null,
      "outputs": []
    }
  ]
}