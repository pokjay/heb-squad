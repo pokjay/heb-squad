{
  "nbformat": 4,
  "nbformat_minor": 0,
  "metadata": {
    "colab": {
      "name": "preprocess_translate_squad_train.ipynb",
      "provenance": [],
      "authorship_tag": "ABX9TyOI5g1VQ+J1QCgvP8xXrpGt",
      "include_colab_link": true
    },
    "kernelspec": {
      "name": "python3",
      "display_name": "Python 3"
    },
    "language_info": {
      "name": "python"
    }
  },
  "cells": [
    {
      "cell_type": "markdown",
      "metadata": {
        "id": "view-in-github",
        "colab_type": "text"
      },
      "source": [
        "<a href=\"https://colab.research.google.com/github/pokjay/heb-squad/blob/main/preprocess_translate_squad_train.ipynb\" target=\"_parent\"><img src=\"https://colab.research.google.com/assets/colab-badge.svg\" alt=\"Open In Colab\"/></a>"
      ]
    },
    {
      "cell_type": "code",
      "metadata": {
        "id": "FSgXJ6Dm9VB3"
      },
      "source": [
        "import json\n",
        "import pandas as pd"
      ],
      "execution_count": 1,
      "outputs": []
    },
    {
      "cell_type": "markdown",
      "metadata": {
        "id": "qWLePGXP9lVG"
      },
      "source": [
        "## Convert SQuAD JSON file to Pandas DataFrame"
      ]
    },
    {
      "cell_type": "code",
      "metadata": {
        "colab": {
          "base_uri": "https://localhost:8080/"
        },
        "id": "om-s4P-oFbji",
        "outputId": "4edb9fd9-3100-4925-e13a-ad4d82855fa0"
      },
      "source": [
        "!git clone https://github.com/pokjay/heb-squad"
      ],
      "execution_count": 2,
      "outputs": [
        {
          "output_type": "stream",
          "text": [
            "Cloning into 'heb-squad'...\n",
            "remote: Enumerating objects: 47, done.\u001b[K\n",
            "remote: Counting objects: 100% (47/47), done.\u001b[K\n",
            "remote: Compressing objects: 100% (40/40), done.\u001b[K\n",
            "remote: Total 47 (delta 11), reused 33 (delta 5), pack-reused 0\u001b[K\n",
            "Unpacking objects: 100% (47/47), done.\n",
            "Checking out files: 100% (17/17), done.\n"
          ],
          "name": "stdout"
        }
      ]
    },
    {
      "cell_type": "code",
      "metadata": {
        "id": "xu3LK6R29s_j"
      },
      "source": [
        "with open('/content/heb-squad/data/original/train-v2.0.json') as f_handle:\n",
        "    dataset = json.load(f_handle)"
      ],
      "execution_count": 3,
      "outputs": []
    },
    {
      "cell_type": "code",
      "metadata": {
        "id": "SlOJW2EH9xzZ"
      },
      "source": [
        "def handle_answer(article, context, qa, answer_field):\n",
        "\n",
        "  rows = []\n",
        "\n",
        "  for answer in qa[answer_field]:\n",
        "\n",
        "    q = qa['question']\n",
        "    qid = qa['id']\n",
        "    is_impossible = qa['is_impossible']\n",
        "    answer_end = answer['answer_start'] + len(answer['text'])\n",
        "                \n",
        "    context_marked = context[:answer['answer_start']] + \\\n",
        "                    '[0123] ' + \\\n",
        "                    context[answer['answer_start'] : answer_end] + \\\n",
        "                    ' [4567]' \\\n",
        "                    + context[answer_end:]\n",
        "                \n",
        "    row = {'article': article['title'],\n",
        "           'id': qid,\n",
        "           'context': context_marked,\n",
        "           'question': q,\n",
        "           'answer': answer['text'],\n",
        "           'answer_start': answer['answer_start'],\n",
        "           'answer_end': answer_end,\n",
        "           'is_impossible': int(is_impossible)}\n",
        "\n",
        "    rows.append(row)\n",
        "  \n",
        "  return rows"
      ],
      "execution_count": 4,
      "outputs": []
    },
    {
      "cell_type": "code",
      "metadata": {
        "id": "qvXHvuPG-lV0"
      },
      "source": [
        "rows = []\n",
        "\n",
        "for article in dataset['data']:\n",
        "  for p in article['paragraphs']:\n",
        "    # Some lines have \\n, we remove them as they screw up translation\n",
        "    context = p['context'].replace('\\n', '')\n",
        "    \n",
        "    for qa in p['qas']:\n",
        "      if 'answers' in qa:\n",
        "        rows.extend(handle_answer(article, context, qa, 'answers'))\n",
        "      if 'plausible_answers' in qa:\n",
        "        rows.extend(handle_answer(article, context, qa, 'plausible_answers'))\n",
        "      \n"
      ],
      "execution_count": 5,
      "outputs": []
    },
    {
      "cell_type": "code",
      "metadata": {
        "colab": {
          "base_uri": "https://localhost:8080/"
        },
        "id": "y6jn7kBdGHQv",
        "outputId": "515c9bae-265e-4a17-9ba8-2d1644ed6589"
      },
      "source": [
        "df = pd.DataFrame(rows).fillna(\"\")\n",
        "df.index = df.index.rename('idx')\n",
        "df.shape"
      ],
      "execution_count": 6,
      "outputs": [
        {
          "output_type": "execute_result",
          "data": {
            "text/plain": [
              "(130319, 8)"
            ]
          },
          "metadata": {},
          "execution_count": 6
        }
      ]
    },
    {
      "cell_type": "code",
      "metadata": {
        "colab": {
          "base_uri": "https://localhost:8080/",
          "height": 324
        },
        "id": "xlXP8TlJGUwQ",
        "outputId": "84385a5d-6515-494d-abe1-6519bf357bb1"
      },
      "source": [
        "df.head()"
      ],
      "execution_count": 7,
      "outputs": [
        {
          "output_type": "execute_result",
          "data": {
            "text/html": [
              "<div>\n",
              "<style scoped>\n",
              "    .dataframe tbody tr th:only-of-type {\n",
              "        vertical-align: middle;\n",
              "    }\n",
              "\n",
              "    .dataframe tbody tr th {\n",
              "        vertical-align: top;\n",
              "    }\n",
              "\n",
              "    .dataframe thead th {\n",
              "        text-align: right;\n",
              "    }\n",
              "</style>\n",
              "<table border=\"1\" class=\"dataframe\">\n",
              "  <thead>\n",
              "    <tr style=\"text-align: right;\">\n",
              "      <th></th>\n",
              "      <th>article</th>\n",
              "      <th>id</th>\n",
              "      <th>context</th>\n",
              "      <th>question</th>\n",
              "      <th>answer</th>\n",
              "      <th>answer_start</th>\n",
              "      <th>answer_end</th>\n",
              "      <th>is_impossible</th>\n",
              "    </tr>\n",
              "    <tr>\n",
              "      <th>idx</th>\n",
              "      <th></th>\n",
              "      <th></th>\n",
              "      <th></th>\n",
              "      <th></th>\n",
              "      <th></th>\n",
              "      <th></th>\n",
              "      <th></th>\n",
              "      <th></th>\n",
              "    </tr>\n",
              "  </thead>\n",
              "  <tbody>\n",
              "    <tr>\n",
              "      <th>0</th>\n",
              "      <td>Beyoncé</td>\n",
              "      <td>56be85543aeaaa14008c9063</td>\n",
              "      <td>Beyoncé Giselle Knowles-Carter (/biːˈjɒnseɪ/ b...</td>\n",
              "      <td>When did Beyonce start becoming popular?</td>\n",
              "      <td>in the late 1990s</td>\n",
              "      <td>269</td>\n",
              "      <td>286</td>\n",
              "      <td>0</td>\n",
              "    </tr>\n",
              "    <tr>\n",
              "      <th>1</th>\n",
              "      <td>Beyoncé</td>\n",
              "      <td>56be85543aeaaa14008c9065</td>\n",
              "      <td>Beyoncé Giselle Knowles-Carter (/biːˈjɒnseɪ/ b...</td>\n",
              "      <td>What areas did Beyonce compete in when she was...</td>\n",
              "      <td>singing and dancing</td>\n",
              "      <td>207</td>\n",
              "      <td>226</td>\n",
              "      <td>0</td>\n",
              "    </tr>\n",
              "    <tr>\n",
              "      <th>2</th>\n",
              "      <td>Beyoncé</td>\n",
              "      <td>56be85543aeaaa14008c9066</td>\n",
              "      <td>Beyoncé Giselle Knowles-Carter (/biːˈjɒnseɪ/ b...</td>\n",
              "      <td>When did Beyonce leave Destiny's Child and bec...</td>\n",
              "      <td>2003</td>\n",
              "      <td>526</td>\n",
              "      <td>530</td>\n",
              "      <td>0</td>\n",
              "    </tr>\n",
              "    <tr>\n",
              "      <th>3</th>\n",
              "      <td>Beyoncé</td>\n",
              "      <td>56bf6b0f3aeaaa14008c9601</td>\n",
              "      <td>Beyoncé Giselle Knowles-Carter (/biːˈjɒnseɪ/ b...</td>\n",
              "      <td>In what city and state did Beyonce  grow up?</td>\n",
              "      <td>Houston, Texas</td>\n",
              "      <td>166</td>\n",
              "      <td>180</td>\n",
              "      <td>0</td>\n",
              "    </tr>\n",
              "    <tr>\n",
              "      <th>4</th>\n",
              "      <td>Beyoncé</td>\n",
              "      <td>56bf6b0f3aeaaa14008c9602</td>\n",
              "      <td>Beyoncé Giselle Knowles-Carter (/biːˈjɒnseɪ/ b...</td>\n",
              "      <td>In which decade did Beyonce become famous?</td>\n",
              "      <td>late 1990s</td>\n",
              "      <td>276</td>\n",
              "      <td>286</td>\n",
              "      <td>0</td>\n",
              "    </tr>\n",
              "  </tbody>\n",
              "</table>\n",
              "</div>"
            ],
            "text/plain": [
              "     article                        id  ... answer_end is_impossible\n",
              "idx                                     ...                         \n",
              "0    Beyoncé  56be85543aeaaa14008c9063  ...        286             0\n",
              "1    Beyoncé  56be85543aeaaa14008c9065  ...        226             0\n",
              "2    Beyoncé  56be85543aeaaa14008c9066  ...        530             0\n",
              "3    Beyoncé  56bf6b0f3aeaaa14008c9601  ...        180             0\n",
              "4    Beyoncé  56bf6b0f3aeaaa14008c9602  ...        286             0\n",
              "\n",
              "[5 rows x 8 columns]"
            ]
          },
          "metadata": {},
          "execution_count": 7
        }
      ]
    },
    {
      "cell_type": "code",
      "metadata": {
        "colab": {
          "base_uri": "https://localhost:8080/"
        },
        "id": "RbjUGuZ2bxvl",
        "outputId": "2e73f44b-5769-478a-9999-cbf924c8cac4"
      },
      "source": [
        "import numpy as np\n",
        "\n",
        "idxs = np.round(np.array([df.shape[0], df.shape[0], df.shape[0], df.shape[0], df.shape[0]]) * np.array([0, 0.25, 0.5, 0.75, 1]))\n",
        "idxs"
      ],
      "execution_count": 8,
      "outputs": [
        {
          "output_type": "execute_result",
          "data": {
            "text/plain": [
              "array([     0.,  32580.,  65160.,  97739., 130319.])"
            ]
          },
          "metadata": {},
          "execution_count": 8
        }
      ]
    },
    {
      "cell_type": "code",
      "metadata": {
        "id": "HbYYV6cUanRT"
      },
      "source": [
        "for i in range(len(idxs) - 1):\n",
        "  partial_df = df.loc[idxs[i] : idxs[i+1]-1]\n",
        "  # partial_df.drop(columns=['article']).to_excel(f'/content/heb-squad/data/intermediate/train-v2.0-{i}.xlsx', index=True)\n"
      ],
      "execution_count": 9,
      "outputs": []
    },
    {
      "cell_type": "code",
      "metadata": {
        "id": "H6mAzSzfGojT"
      },
      "source": [
        ""
      ],
      "execution_count": 9,
      "outputs": []
    },
    {
      "cell_type": "markdown",
      "metadata": {
        "id": "dbcu7BDLHyJU"
      },
      "source": [
        "## 1. Translate XLSX manually using Google Translate Document translator\n",
        "## 2. Run code below processing the translated output"
      ]
    },
    {
      "cell_type": "code",
      "metadata": {
        "id": "GnCryzOVpgvt"
      },
      "source": [
        "translated_file_format = '/content/heb-squad/data/intermediate/heb-train-v2.0-{}.tsv'#'/Users/akeidar/temp/squad_train_{}_translated.tsv'"
      ],
      "execution_count": 10,
      "outputs": []
    },
    {
      "cell_type": "code",
      "metadata": {
        "id": "g-XBG-IKJmv-"
      },
      "source": [
        "dfs = []\n",
        "\n",
        "for i in range(4):\n",
        "    dfs.append(pd.read_csv(translated_file_format.format(i), sep='\\t', quoting=3, index_col=0))#.dropna(subset=['context_marked'], how='any'))\n",
        "\n",
        "df2 = pd.concat(dfs)"
      ],
      "execution_count": 103,
      "outputs": []
    },
    {
      "cell_type": "code",
      "metadata": {
        "id": "cvsQkHzPxUmD"
      },
      "source": [
        "df2['id'] = df2.id.str.strip()\n",
        "df2['context'] = df2.context.str.strip()\n",
        "df2['question'] = df2.question.str.strip()\n",
        "df2['answer'] = df2.answer.str.strip().astype('str')"
      ],
      "execution_count": 104,
      "outputs": []
    },
    {
      "cell_type": "markdown",
      "metadata": {
        "id": "DDGdH_9NMYnj"
      },
      "source": [
        "Take a quick look at what we got"
      ]
    },
    {
      "cell_type": "code",
      "metadata": {
        "colab": {
          "base_uri": "https://localhost:8080/"
        },
        "id": "dds1ePO0MXvP",
        "outputId": "8d6dc446-123d-42ad-f2a0-813ce47f0261"
      },
      "source": [
        "df2.shape"
      ],
      "execution_count": 105,
      "outputs": [
        {
          "output_type": "execute_result",
          "data": {
            "text/plain": [
              "(130319, 7)"
            ]
          },
          "metadata": {},
          "execution_count": 105
        }
      ]
    },
    {
      "cell_type": "code",
      "metadata": {
        "colab": {
          "base_uri": "https://localhost:8080/",
          "height": 227
        },
        "id": "_AuNLoVHMbLx",
        "outputId": "33d5ab6e-bf89-451e-bd96-d9ef7649c80b"
      },
      "source": [
        "df2.head(3)"
      ],
      "execution_count": 106,
      "outputs": [
        {
          "output_type": "execute_result",
          "data": {
            "text/html": [
              "<div>\n",
              "<style scoped>\n",
              "    .dataframe tbody tr th:only-of-type {\n",
              "        vertical-align: middle;\n",
              "    }\n",
              "\n",
              "    .dataframe tbody tr th {\n",
              "        vertical-align: top;\n",
              "    }\n",
              "\n",
              "    .dataframe thead th {\n",
              "        text-align: right;\n",
              "    }\n",
              "</style>\n",
              "<table border=\"1\" class=\"dataframe\">\n",
              "  <thead>\n",
              "    <tr style=\"text-align: right;\">\n",
              "      <th></th>\n",
              "      <th>id</th>\n",
              "      <th>context</th>\n",
              "      <th>question</th>\n",
              "      <th>answer</th>\n",
              "      <th>answer_start</th>\n",
              "      <th>answer_end</th>\n",
              "      <th>is_impossible</th>\n",
              "    </tr>\n",
              "    <tr>\n",
              "      <th>idx</th>\n",
              "      <th></th>\n",
              "      <th></th>\n",
              "      <th></th>\n",
              "      <th></th>\n",
              "      <th></th>\n",
              "      <th></th>\n",
              "      <th></th>\n",
              "    </tr>\n",
              "  </thead>\n",
              "  <tbody>\n",
              "    <tr>\n",
              "      <th>0</th>\n",
              "      <td>56be85543aeaaa14008c9063</td>\n",
              "      <td>ביונסה ג'יזל נואלס-קרטר (/ biːˈjɒnseɪ/ bee-YON...</td>\n",
              "      <td>מתי ביונסה החלה להיות פופולרית?</td>\n",
              "      <td>בסוף שנות התשעים</td>\n",
              "      <td>269</td>\n",
              "      <td>286</td>\n",
              "      <td>0</td>\n",
              "    </tr>\n",
              "    <tr>\n",
              "      <th>1</th>\n",
              "      <td>56be85543aeaaa14008c9065</td>\n",
              "      <td>ביונסה ג'יזל נואלס-קרטר (/ biːˈjɒnseɪ/ bee-YON...</td>\n",
              "      <td>באילו תחומים ביונסה התחרה כשהתבגר?</td>\n",
              "      <td>שירה וריקודים</td>\n",
              "      <td>207</td>\n",
              "      <td>226</td>\n",
              "      <td>0</td>\n",
              "    </tr>\n",
              "    <tr>\n",
              "      <th>2</th>\n",
              "      <td>56be85543aeaaa14008c9066</td>\n",
              "      <td>ביונסה ג'יזל נואלס-קרטר (/ biːˈjɒnseɪ/ bee-YON...</td>\n",
              "      <td>מתי עזבה ביונסה את Destiny's Child והפכה לזמרת...</td>\n",
              "      <td>2003</td>\n",
              "      <td>526</td>\n",
              "      <td>530</td>\n",
              "      <td>0</td>\n",
              "    </tr>\n",
              "  </tbody>\n",
              "</table>\n",
              "</div>"
            ],
            "text/plain": [
              "                           id  ... is_impossible\n",
              "idx                            ...              \n",
              "0    56be85543aeaaa14008c9063  ...             0\n",
              "1    56be85543aeaaa14008c9065  ...             0\n",
              "2    56be85543aeaaa14008c9066  ...             0\n",
              "\n",
              "[3 rows x 7 columns]"
            ]
          },
          "metadata": {},
          "execution_count": 106
        }
      ]
    },
    {
      "cell_type": "markdown",
      "metadata": {
        "id": "H0ouEJ6CwKPb"
      },
      "source": [
        "### Validate IDs are correct, fix if needed"
      ]
    },
    {
      "cell_type": "markdown",
      "metadata": {
        "id": "ouSkBXTb1yN0"
      },
      "source": [
        "Check how many diffs we have"
      ]
    },
    {
      "cell_type": "code",
      "metadata": {
        "colab": {
          "base_uri": "https://localhost:8080/"
        },
        "id": "2qx5OQDywPxE",
        "outputId": "1e225339-58f6-4a89-c0a6-6752b008a1b3"
      },
      "source": [
        "pd.Series(df.id.values == df2.id.values).value_counts()"
      ],
      "execution_count": 107,
      "outputs": [
        {
          "output_type": "execute_result",
          "data": {
            "text/plain": [
              "True     129721\n",
              "False       598\n",
              "dtype: int64"
            ]
          },
          "metadata": {},
          "execution_count": 107
        }
      ]
    },
    {
      "cell_type": "markdown",
      "metadata": {
        "id": "w5pFTQUn13YR"
      },
      "source": [
        "Print problematic IDs"
      ]
    },
    {
      "cell_type": "code",
      "metadata": {
        "colab": {
          "base_uri": "https://localhost:8080/"
        },
        "id": "jefCDzbJyHQa",
        "outputId": "a65545ed-ba00-4485-d57c-ea54b4d1cb17"
      },
      "source": [
        "df2.loc[~(df.id.values == df2.id.values), 'id']"
      ],
      "execution_count": 108,
      "outputs": [
        {
          "output_type": "execute_result",
          "data": {
            "text/plain": [
              "idx\n",
              "518       56bec4de3aeaaa14008c93 להיות\n",
              "904          56cbe2fd6d243a140015 ערוך\n",
              "937           56cbeb396d243a140015 עדב\n",
              "938           56cbeb396d243a140015 אדי\n",
              "1028                                38\n",
              "                      ...             \n",
              "129776      57359bbcdc94161900571 איאה\n",
              "129778         57359bbcdc94161900571ec\n",
              "129779      57359bbcdc94161900571 הניח\n",
              "129980      עמלת 5735c3d0dc94161900571\n",
              "129986       5735c421dc94161900571 קפה\n",
              "Name: id, Length: 598, dtype: object"
            ]
          },
          "metadata": {},
          "execution_count": 108
        }
      ]
    },
    {
      "cell_type": "markdown",
      "metadata": {
        "id": "p9hzc0Gu15ZM"
      },
      "source": [
        "Print original IDs"
      ]
    },
    {
      "cell_type": "code",
      "metadata": {
        "colab": {
          "base_uri": "https://localhost:8080/"
        },
        "id": "WRZj8yff02ND",
        "outputId": "f662b0b6-6fa7-40cd-f431-bea251cf58d8"
      },
      "source": [
        "df.loc[~(df.id.values == df2.id.values), 'id']"
      ],
      "execution_count": 109,
      "outputs": [
        {
          "output_type": "execute_result",
          "data": {
            "text/plain": [
              "idx\n",
              "518       56bec4de3aeaaa14008c93be\n",
              "904       56cbe2fd6d243a140015edce\n",
              "937       56cbeb396d243a140015edeb\n",
              "938       56cbeb396d243a140015edec\n",
              "1028      56cbfbdd6d243a140015ee38\n",
              "                    ...           \n",
              "129776    57359bbcdc94161900571eea\n",
              "129778    57359bbcdc94161900571eec\n",
              "129779    57359bbcdc94161900571eed\n",
              "129980    5735c3d0dc94161900571fee\n",
              "129986    5735c421dc94161900571ffe\n",
              "Name: id, Length: 598, dtype: object"
            ]
          },
          "metadata": {},
          "execution_count": 109
        }
      ]
    },
    {
      "cell_type": "markdown",
      "metadata": {
        "id": "mn-IxjuC1-R4"
      },
      "source": [
        "Replace problematic ids with original ids"
      ]
    },
    {
      "cell_type": "code",
      "metadata": {
        "id": "lSJJK1qy1pZO"
      },
      "source": [
        "df2.loc[~(df.id.values == df2.id.values), 'id'] = df.loc[~(df.id.values == df2.id.values), 'id'].to_list()"
      ],
      "execution_count": 110,
      "outputs": []
    },
    {
      "cell_type": "code",
      "metadata": {
        "colab": {
          "base_uri": "https://localhost:8080/"
        },
        "id": "YDG9VMey1P56",
        "outputId": "bafa228b-7a9f-45ee-dba9-8a28a4c09f9a"
      },
      "source": [
        "pd.Series(df.id.values == df2.id.values).value_counts()"
      ],
      "execution_count": 111,
      "outputs": [
        {
          "output_type": "execute_result",
          "data": {
            "text/plain": [
              "True    130319\n",
              "dtype: int64"
            ]
          },
          "metadata": {},
          "execution_count": 111
        }
      ]
    },
    {
      "cell_type": "markdown",
      "metadata": {
        "id": "b-Kvg3vMwPLP"
      },
      "source": [
        "### Add name of article for creating JSON later"
      ]
    },
    {
      "cell_type": "code",
      "metadata": {
        "colab": {
          "base_uri": "https://localhost:8080/"
        },
        "id": "utKVuG7GMbEr",
        "outputId": "72460797-cf6b-45ed-8a22-1dfe79c36dad"
      },
      "source": [
        "df2['article'] = df.article.to_list()\n",
        "df2.article.value_counts() == df.article.value_counts()"
      ],
      "execution_count": 112,
      "outputs": [
        {
          "output_type": "execute_result",
          "data": {
            "text/plain": [
              "Queen_Victoria                                    True\n",
              "New_York_City                                     True\n",
              "American_Idol                                     True\n",
              "Beyoncé                                           True\n",
              "Frédéric_Chopin                                   True\n",
              "                                                  ... \n",
              "Order_of_the_British_Empire                       True\n",
              "Letter_case                                       True\n",
              "Race_and_ethnicity_in_the_United_States_Census    True\n",
              "Grape                                             True\n",
              "Pitch_(music)                                     True\n",
              "Name: article, Length: 442, dtype: bool"
            ]
          },
          "metadata": {},
          "execution_count": 112
        }
      ]
    },
    {
      "cell_type": "markdown",
      "metadata": {
        "id": "fMXvRk5-Mgzs"
      },
      "source": [
        "Remove markers from context, and then print a sample to see if context looks good"
      ]
    },
    {
      "cell_type": "code",
      "metadata": {
        "id": "Kazt3RveMa5t"
      },
      "source": [
        "df2['context_marked'] = df2.context"
      ],
      "execution_count": 113,
      "outputs": []
    },
    {
      "cell_type": "code",
      "metadata": {
        "id": "-hdZaOe_Mxtu"
      },
      "source": [
        "df2['context'] = df2.context_marked.str.replace('[0123] ', '', regex=False)\n",
        "df2['context'] = df2.context.str.replace(' [4567]', '', regex=False)"
      ],
      "execution_count": 114,
      "outputs": []
    },
    {
      "cell_type": "code",
      "metadata": {
        "colab": {
          "base_uri": "https://localhost:8080/"
        },
        "id": "vOOyY12zMxzi",
        "outputId": "96ac499b-b6b6-4059-ecf4-55a9fe185e1f"
      },
      "source": [
        "df2.iloc[10].context_marked, '', '', df2.iloc[10].context"
      ],
      "execution_count": 115,
      "outputs": [
        {
          "output_type": "execute_result",
          "data": {
            "text/plain": [
              "('ביונסה ג\\'יזל נואלס-קרטר (/ biːˈjɒnseɪ/ bee-YON-say) (נולדה ב -4 בספטמבר 1981) היא זמרת, כותבת שירים, מפיקה ושחקנית אמריקאית. היא נולדה וגדלה ביוסטון, טקסס, והופיעה בתחרויות שירה וריקוד בילדותה, ועלתה לתהילה בסוף שנות ה -90 כזמרת להקת הבנות R & B Destiny\\'s Child. בניהולו של אביה, מתיו נואלס, הפכה הקבוצה לאחת מקבוצות הנערות הנמכרות ביותר בכל הזמנים. ההפסקה שלהם יצאה לאור אלבום הבכורה של ביונסה, [0123] Dangerously in Love [4567] (2003), שהקים אותה כאמנית סולו ברחבי העולם, זכתה בחמישה פרסי גראמי והציגה את סינגלי בילבורד הוט 100 מספר אחת \"Crazy in Love \"ו-\" בייבי בוי \".',\n",
              " '',\n",
              " '',\n",
              " 'ביונסה ג\\'יזל נואלס-קרטר (/ biːˈjɒnseɪ/ bee-YON-say) (נולדה ב -4 בספטמבר 1981) היא זמרת, כותבת שירים, מפיקה ושחקנית אמריקאית. היא נולדה וגדלה ביוסטון, טקסס, והופיעה בתחרויות שירה וריקוד בילדותה, ועלתה לתהילה בסוף שנות ה -90 כזמרת להקת הבנות R & B Destiny\\'s Child. בניהולו של אביה, מתיו נואלס, הפכה הקבוצה לאחת מקבוצות הנערות הנמכרות ביותר בכל הזמנים. ההפסקה שלהם יצאה לאור אלבום הבכורה של ביונסה, Dangerously in Love (2003), שהקים אותה כאמנית סולו ברחבי העולם, זכתה בחמישה פרסי גראמי והציגה את סינגלי בילבורד הוט 100 מספר אחת \"Crazy in Love \"ו-\" בייבי בוי \".')"
            ]
          },
          "metadata": {},
          "execution_count": 115
        }
      ]
    },
    {
      "cell_type": "markdown",
      "metadata": {
        "id": "G8bua8qXM5Xk"
      },
      "source": [
        "Calculate the new start and end locations of the answer in the Hebrew context"
      ]
    },
    {
      "cell_type": "code",
      "metadata": {
        "id": "5IeEgpA1Mx2j"
      },
      "source": [
        "df2['answer_start_heb'] = df2.context_marked.str.find('[0123] ')\n",
        "df2['answer_end_heb'] = df2.apply(lambda row: row.context_marked.find(' [4567]', int(row.answer_start_heb)) - len(' [4567]'), axis=1)"
      ],
      "execution_count": 116,
      "outputs": []
    },
    {
      "cell_type": "markdown",
      "metadata": {
        "id": "MXazNpnt3eLk"
      },
      "source": [
        "Validate how many rows are problematic and will be discarded"
      ]
    },
    {
      "cell_type": "code",
      "metadata": {
        "colab": {
          "base_uri": "https://localhost:8080/"
        },
        "id": "aviS0D1-3D4H",
        "outputId": "43aaa7fa-5a89-4dd6-b03c-5a8621238f71"
      },
      "source": [
        "print((df2.answer_start_heb >= 0).value_counts())\n",
        "print()\n",
        "print((df2.answer_end_heb >= 0).value_counts())"
      ],
      "execution_count": 117,
      "outputs": [
        {
          "output_type": "stream",
          "text": [
            "True     114467\n",
            "False     15852\n",
            "Name: answer_start_heb, dtype: int64\n",
            "\n",
            "True     112644\n",
            "False     17675\n",
            "Name: answer_end_heb, dtype: int64\n"
          ],
          "name": "stdout"
        }
      ]
    },
    {
      "cell_type": "code",
      "metadata": {
        "id": "uTWjMPuDMx5X"
      },
      "source": [
        "for row in df2.sample(30):\n",
        "  df2.iloc[10].context[int(df2.iloc[10].answer_start_heb):int(df2.iloc[10].answer_end_heb)]"
      ],
      "execution_count": 118,
      "outputs": []
    },
    {
      "cell_type": "code",
      "metadata": {
        "colab": {
          "base_uri": "https://localhost:8080/"
        },
        "id": "MUPJB-nm40D8",
        "outputId": "19770af5-49c2-48c1-e87e-d42fd85a23f4"
      },
      "source": [
        "for row in df2.sample(10).itertuples():\n",
        "  print(row.question)\n",
        "  print(row.context[int(row.answer_start_heb):int(row.answer_end_heb)])\n",
        "  print()"
      ],
      "execution_count": 119,
      "outputs": [
        {
          "output_type": "stream",
          "text": [
            "באיזה סרט כיכבה ביונסה עם סטיב מרטין?\n",
            "הפנתר הוורוד\n",
            "\n",
            "מאיפה מקור הביטוי הצרפתי \"ביטומן\"?\n",
            "\n",
            "\n",
            "איזה כת נוצרה בארס מקסימה בפורום בוארום?\n",
            "הרקולס\n",
            "\n",
            "מה לא זיהה את הסופות על נפטון?\n",
            "וויאג'ר 2\n",
            "\n",
            "יחד עם חומצות שומן, אילו חומצות נמצאות בתמציות העץ?\n",
            "שרף\n",
            "\n",
            "לאיזו מפלגה פוליטית משויך בעל הטור של הטיימס, דניאל פינקלשטיין?\n",
            "\n",
            "\n",
            "מתי התכוון הנסיך לואיס לנחות בדרום אנגליה?\n",
            "מאי 1216\n",
            "\n",
            "היכן נמצאת אגורדת?\n",
            "במרכז אריתריאה\n",
            "\n",
            "האנגלים כבשו את ניו יורק החל מאיזה תאריך?\n",
            "1664\n",
            "\n",
            "אף מדינה אחת לא מורכבת מכמה מהאוכלוסייה לאחר מלחמת העולם השנייה?\n",
            "30%\n",
            "\n"
          ],
          "name": "stdout"
        }
      ]
    },
    {
      "cell_type": "markdown",
      "metadata": {
        "id": "U9tkh-5p4GQV"
      },
      "source": [
        "#### Try and fix answers ruined in translation\n",
        "These are rows where the tags surrounding the answer was lost in translation, maeaning we cannot retrieve the correct indices of the answers from the Hebrew translation. We will try to use the translated answer to find the indices in the context."
      ]
    },
    {
      "cell_type": "code",
      "metadata": {
        "id": "pBUQn0Rl4Fi0"
      },
      "source": [
        "mis_ans_df = df2[(df2.answer_start_heb >= df2.answer_end_heb) | (df2.answer_start_heb < 0) | (df2.answer_end_heb < 0)]"
      ],
      "execution_count": 120,
      "outputs": []
    },
    {
      "cell_type": "code",
      "metadata": {
        "colab": {
          "base_uri": "https://localhost:8080/"
        },
        "id": "5A0x5QL04jEV",
        "outputId": "42e14761-0891-45eb-ff82-941a256281c0"
      },
      "source": [
        "mis_ans_df.shape"
      ],
      "execution_count": 121,
      "outputs": [
        {
          "output_type": "execute_result",
          "data": {
            "text/plain": [
              "(22895, 11)"
            ]
          },
          "metadata": {},
          "execution_count": 121
        }
      ]
    },
    {
      "cell_type": "code",
      "metadata": {
        "id": "RLS9nlgZ9DPh"
      },
      "source": [
        "new_ans_start = mis_ans_df.apply(lambda row: row.context.find(row.answer), axis=1)\n",
        "new_ans_end = mis_ans_df.apply(lambda row: -1 if (row.context.find(row.answer) == -1) else (row.context.find(row.answer) + len(row.answer)), axis=1)\n",
        "\n",
        "new_ans_start_success = new_ans_start[new_ans_start > -1]\n",
        "new_ans_end_success = new_ans_end[new_ans_end > -1]\n",
        "\n",
        "df2.loc[new_ans_start_success.index, 'answer_start_heb'] = new_ans_start_success.to_list()\n",
        "df2.loc[new_ans_end.index, 'answer_end_heb'] = new_ans_end.to_list()"
      ],
      "execution_count": 122,
      "outputs": []
    },
    {
      "cell_type": "code",
      "metadata": {
        "colab": {
          "base_uri": "https://localhost:8080/"
        },
        "id": "k8zBOsYPNDFa",
        "outputId": "03e3221f-c8e4-4f18-bbe9-332513b6e53b"
      },
      "source": [
        "print((df2.answer_start_heb >= 0).value_counts())\n",
        "print()\n",
        "print((df2.answer_end_heb >= 0).value_counts())"
      ],
      "execution_count": 123,
      "outputs": [
        {
          "output_type": "stream",
          "text": [
            "True     121941\n",
            "False      8378\n",
            "Name: answer_start_heb, dtype: int64\n",
            "\n",
            "True     117895\n",
            "False     12424\n",
            "Name: answer_end_heb, dtype: int64\n"
          ],
          "name": "stdout"
        }
      ]
    },
    {
      "cell_type": "markdown",
      "metadata": {
        "id": "pPET4kqKNJDD"
      },
      "source": [
        "Below we remove rows where the translation deleted the answer markers from the context."
      ]
    },
    {
      "cell_type": "code",
      "metadata": {
        "id": "hkKhuWHRNDIN",
        "colab": {
          "base_uri": "https://localhost:8080/"
        },
        "outputId": "419f0935-2e83-4c16-a6cb-90e8886ca0ca"
      },
      "source": [
        "print('We will remove', df2[(df2.answer_start_heb >= df2.answer_end_heb) | (df2.answer_start_heb < 0) | (df2.answer_end_heb < 0)].shape[0], 'rows')"
      ],
      "execution_count": 125,
      "outputs": [
        {
          "output_type": "stream",
          "text": [
            "We will remove 12424 rows\n"
          ],
          "name": "stdout"
        }
      ]
    },
    {
      "cell_type": "code",
      "metadata": {
        "id": "sJ1DngI7NDLG"
      },
      "source": [
        "df2_clean = df2[(df2.answer_start_heb < df2.answer_end_heb) | (df2.answer_start_heb >= 0) | (df2.answer_end_heb >= 0)]"
      ],
      "execution_count": 126,
      "outputs": []
    },
    {
      "cell_type": "code",
      "metadata": {
        "colab": {
          "base_uri": "https://localhost:8080/"
        },
        "id": "DhiFkc7Z_POv",
        "outputId": "659e6395-d12d-4b23-d832-0f9375cb77dd"
      },
      "source": [
        "df2_clean.shape"
      ],
      "execution_count": 127,
      "outputs": [
        {
          "output_type": "execute_result",
          "data": {
            "text/plain": [
              "(121941, 11)"
            ]
          },
          "metadata": {},
          "execution_count": 127
        }
      ]
    },
    {
      "cell_type": "markdown",
      "metadata": {
        "id": "vd7LlfHyNOsS"
      },
      "source": [
        "Now we can save the df to file, it is ready!"
      ]
    },
    {
      "cell_type": "code",
      "metadata": {
        "id": "ccnek8Am_SLG"
      },
      "source": [
        "!mkdir /content/heb-squad/data/final"
      ],
      "execution_count": 128,
      "outputs": []
    },
    {
      "cell_type": "code",
      "metadata": {
        "id": "kvt3Q1fcNM5b"
      },
      "source": [
        "df2_clean.to_csv('/content/heb-squad/data/final/heb-train-v2.0.csv', index=False)"
      ],
      "execution_count": 129,
      "outputs": []
    },
    {
      "cell_type": "code",
      "metadata": {
        "id": "YoqGWqf68V2H"
      },
      "source": [
        ""
      ],
      "execution_count": null,
      "outputs": []
    }
  ]
}