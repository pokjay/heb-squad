{
  "nbformat": 4,
  "nbformat_minor": 0,
  "metadata": {
    "colab": {
      "name": "preprocess_translate_squad_train.ipynb",
      "provenance": [],
      "authorship_tag": "ABX9TyM36ICCkxQT2WgeAGgy5Zg5",
      "include_colab_link": true
    },
    "kernelspec": {
      "name": "python3",
      "display_name": "Python 3"
    },
    "language_info": {
      "name": "python"
    }
  },
  "cells": [
    {
      "cell_type": "markdown",
      "metadata": {
        "id": "view-in-github",
        "colab_type": "text"
      },
      "source": [
        "<a href=\"https://colab.research.google.com/github/pokjay/heb-squad/blob/main/preprocess_translate_squad_train.ipynb\" target=\"_parent\"><img src=\"https://colab.research.google.com/assets/colab-badge.svg\" alt=\"Open In Colab\"/></a>"
      ]
    },
    {
      "cell_type": "code",
      "metadata": {
        "id": "FSgXJ6Dm9VB3"
      },
      "source": [
        "import json\n",
        "import pandas as pd"
      ],
      "execution_count": null,
      "outputs": []
    },
    {
      "cell_type": "markdown",
      "metadata": {
        "id": "qWLePGXP9lVG"
      },
      "source": [
        "## Convert SQuAD JSON file to Pandas DataFrame"
      ]
    },
    {
      "cell_type": "code",
      "metadata": {
        "colab": {
          "base_uri": "https://localhost:8080/"
        },
        "id": "om-s4P-oFbji",
        "outputId": "24cd2a21-b090-4119-8a34-347cfac21561"
      },
      "source": [
        "!git clone https://github.com/pokjay/heb-squad"
      ],
      "execution_count": null,
      "outputs": [
        {
          "output_type": "stream",
          "text": [
            "Cloning into 'heb-squad'...\n",
            "remote: Enumerating objects: 64, done.\u001b[K\n",
            "remote: Counting objects: 100% (64/64), done.\u001b[K\n",
            "remote: Compressing objects: 100% (57/57), done.\u001b[K\n",
            "remote: Total 64 (delta 19), reused 36 (delta 5), pack-reused 0\u001b[K\n",
            "Unpacking objects: 100% (64/64), done.\n",
            "Checking out files: 100% (21/21), done.\n"
          ],
          "name": "stdout"
        }
      ]
    },
    {
      "cell_type": "code",
      "metadata": {
        "id": "xu3LK6R29s_j"
      },
      "source": [
        "with open('/content/heb-squad/data/original/train-v2.0.json') as f_handle:\n",
        "    dataset = json.load(f_handle)"
      ],
      "execution_count": null,
      "outputs": []
    },
    {
      "cell_type": "code",
      "metadata": {
        "id": "SlOJW2EH9xzZ"
      },
      "source": [
        "def handle_answer(article, context, qa, answer_field):\n",
        "\n",
        "  rows = []\n",
        "\n",
        "  for answer in qa[answer_field]:\n",
        "\n",
        "    q = qa['question']\n",
        "    qid = qa['id']\n",
        "    is_impossible = qa['is_impossible']\n",
        "    answer_end = answer['answer_start'] + len(answer['text'])\n",
        "                \n",
        "    context_marked = context[:answer['answer_start']] + \\\n",
        "                    '[0123] ' + \\\n",
        "                    context[answer['answer_start'] : answer_end] + \\\n",
        "                    ' [4567]' \\\n",
        "                    + context[answer_end:]\n",
        "                \n",
        "    row = {'article': article['title'],\n",
        "           'id': qid,\n",
        "           'context': context_marked,\n",
        "           'question': q,\n",
        "           'answer': answer['text'],\n",
        "           'answer_start': answer['answer_start'],\n",
        "           'answer_end': answer_end,\n",
        "           'is_impossible': int(is_impossible)}\n",
        "\n",
        "    rows.append(row)\n",
        "  \n",
        "  return rows"
      ],
      "execution_count": null,
      "outputs": []
    },
    {
      "cell_type": "code",
      "metadata": {
        "id": "qvXHvuPG-lV0"
      },
      "source": [
        "rows = []\n",
        "\n",
        "for article in dataset['data']:\n",
        "  for p in article['paragraphs']:\n",
        "    # Some lines have \\n, we remove them as they screw up translation\n",
        "    context = p['context'].replace('\\n', '')\n",
        "    \n",
        "    for qa in p['qas']:\n",
        "      if 'answers' in qa:\n",
        "        rows.extend(handle_answer(article, context, qa, 'answers'))\n",
        "      if 'plausible_answers' in qa:\n",
        "        rows.extend(handle_answer(article, context, qa, 'plausible_answers'))\n",
        "      \n"
      ],
      "execution_count": null,
      "outputs": []
    },
    {
      "cell_type": "code",
      "metadata": {
        "colab": {
          "base_uri": "https://localhost:8080/"
        },
        "id": "y6jn7kBdGHQv",
        "outputId": "188d93d7-e067-41eb-dc34-6d4b34d26ada"
      },
      "source": [
        "df = pd.DataFrame(rows).fillna(\"\")\n",
        "df.index = df.index.rename('idx')\n",
        "df.shape"
      ],
      "execution_count": null,
      "outputs": [
        {
          "output_type": "execute_result",
          "data": {
            "text/plain": [
              "(130319, 8)"
            ]
          },
          "metadata": {},
          "execution_count": 6
        }
      ]
    },
    {
      "cell_type": "code",
      "metadata": {
        "colab": {
          "base_uri": "https://localhost:8080/",
          "height": 324
        },
        "id": "xlXP8TlJGUwQ",
        "outputId": "a7036158-e06c-4364-e801-ea5ab3ea2b85"
      },
      "source": [
        "df.head()"
      ],
      "execution_count": null,
      "outputs": [
        {
          "output_type": "execute_result",
          "data": {
            "text/html": [
              "<div>\n",
              "<style scoped>\n",
              "    .dataframe tbody tr th:only-of-type {\n",
              "        vertical-align: middle;\n",
              "    }\n",
              "\n",
              "    .dataframe tbody tr th {\n",
              "        vertical-align: top;\n",
              "    }\n",
              "\n",
              "    .dataframe thead th {\n",
              "        text-align: right;\n",
              "    }\n",
              "</style>\n",
              "<table border=\"1\" class=\"dataframe\">\n",
              "  <thead>\n",
              "    <tr style=\"text-align: right;\">\n",
              "      <th></th>\n",
              "      <th>article</th>\n",
              "      <th>id</th>\n",
              "      <th>context</th>\n",
              "      <th>question</th>\n",
              "      <th>answer</th>\n",
              "      <th>answer_start</th>\n",
              "      <th>answer_end</th>\n",
              "      <th>is_impossible</th>\n",
              "    </tr>\n",
              "    <tr>\n",
              "      <th>idx</th>\n",
              "      <th></th>\n",
              "      <th></th>\n",
              "      <th></th>\n",
              "      <th></th>\n",
              "      <th></th>\n",
              "      <th></th>\n",
              "      <th></th>\n",
              "      <th></th>\n",
              "    </tr>\n",
              "  </thead>\n",
              "  <tbody>\n",
              "    <tr>\n",
              "      <th>0</th>\n",
              "      <td>Beyoncé</td>\n",
              "      <td>56be85543aeaaa14008c9063</td>\n",
              "      <td>Beyoncé Giselle Knowles-Carter (/biːˈjɒnseɪ/ b...</td>\n",
              "      <td>When did Beyonce start becoming popular?</td>\n",
              "      <td>in the late 1990s</td>\n",
              "      <td>269</td>\n",
              "      <td>286</td>\n",
              "      <td>0</td>\n",
              "    </tr>\n",
              "    <tr>\n",
              "      <th>1</th>\n",
              "      <td>Beyoncé</td>\n",
              "      <td>56be85543aeaaa14008c9065</td>\n",
              "      <td>Beyoncé Giselle Knowles-Carter (/biːˈjɒnseɪ/ b...</td>\n",
              "      <td>What areas did Beyonce compete in when she was...</td>\n",
              "      <td>singing and dancing</td>\n",
              "      <td>207</td>\n",
              "      <td>226</td>\n",
              "      <td>0</td>\n",
              "    </tr>\n",
              "    <tr>\n",
              "      <th>2</th>\n",
              "      <td>Beyoncé</td>\n",
              "      <td>56be85543aeaaa14008c9066</td>\n",
              "      <td>Beyoncé Giselle Knowles-Carter (/biːˈjɒnseɪ/ b...</td>\n",
              "      <td>When did Beyonce leave Destiny's Child and bec...</td>\n",
              "      <td>2003</td>\n",
              "      <td>526</td>\n",
              "      <td>530</td>\n",
              "      <td>0</td>\n",
              "    </tr>\n",
              "    <tr>\n",
              "      <th>3</th>\n",
              "      <td>Beyoncé</td>\n",
              "      <td>56bf6b0f3aeaaa14008c9601</td>\n",
              "      <td>Beyoncé Giselle Knowles-Carter (/biːˈjɒnseɪ/ b...</td>\n",
              "      <td>In what city and state did Beyonce  grow up?</td>\n",
              "      <td>Houston, Texas</td>\n",
              "      <td>166</td>\n",
              "      <td>180</td>\n",
              "      <td>0</td>\n",
              "    </tr>\n",
              "    <tr>\n",
              "      <th>4</th>\n",
              "      <td>Beyoncé</td>\n",
              "      <td>56bf6b0f3aeaaa14008c9602</td>\n",
              "      <td>Beyoncé Giselle Knowles-Carter (/biːˈjɒnseɪ/ b...</td>\n",
              "      <td>In which decade did Beyonce become famous?</td>\n",
              "      <td>late 1990s</td>\n",
              "      <td>276</td>\n",
              "      <td>286</td>\n",
              "      <td>0</td>\n",
              "    </tr>\n",
              "  </tbody>\n",
              "</table>\n",
              "</div>"
            ],
            "text/plain": [
              "     article                        id  ... answer_end is_impossible\n",
              "idx                                     ...                         \n",
              "0    Beyoncé  56be85543aeaaa14008c9063  ...        286             0\n",
              "1    Beyoncé  56be85543aeaaa14008c9065  ...        226             0\n",
              "2    Beyoncé  56be85543aeaaa14008c9066  ...        530             0\n",
              "3    Beyoncé  56bf6b0f3aeaaa14008c9601  ...        180             0\n",
              "4    Beyoncé  56bf6b0f3aeaaa14008c9602  ...        286             0\n",
              "\n",
              "[5 rows x 8 columns]"
            ]
          },
          "metadata": {},
          "execution_count": 7
        }
      ]
    },
    {
      "cell_type": "code",
      "metadata": {
        "colab": {
          "base_uri": "https://localhost:8080/"
        },
        "id": "RbjUGuZ2bxvl",
        "outputId": "c3c26258-606e-4a2c-dce6-5e583a9397c6"
      },
      "source": [
        "import numpy as np\n",
        "\n",
        "idxs = np.round(np.array([df.shape[0], df.shape[0], df.shape[0], df.shape[0], df.shape[0]]) * np.array([0, 0.25, 0.5, 0.75, 1]))\n",
        "idxs"
      ],
      "execution_count": null,
      "outputs": [
        {
          "output_type": "execute_result",
          "data": {
            "text/plain": [
              "array([     0.,  32580.,  65160.,  97739., 130319.])"
            ]
          },
          "metadata": {},
          "execution_count": 8
        }
      ]
    },
    {
      "cell_type": "code",
      "metadata": {
        "id": "HbYYV6cUanRT"
      },
      "source": [
        "for i in range(len(idxs) - 1):\n",
        "  partial_df = df.loc[idxs[i] : idxs[i+1]-1]\n",
        "  # partial_df.drop(columns=['article']).to_excel(f'/content/heb-squad/data/intermediate/train-v2.0-{i}.xlsx', index=True)\n"
      ],
      "execution_count": null,
      "outputs": []
    },
    {
      "cell_type": "code",
      "metadata": {
        "id": "H6mAzSzfGojT"
      },
      "source": [
        ""
      ],
      "execution_count": null,
      "outputs": []
    },
    {
      "cell_type": "markdown",
      "metadata": {
        "id": "dbcu7BDLHyJU"
      },
      "source": [
        "## 1. Translate XLSX manually using Google Translate Document translator\n",
        "## 2. Run code below processing the translated output"
      ]
    },
    {
      "cell_type": "code",
      "metadata": {
        "id": "GnCryzOVpgvt"
      },
      "source": [
        "translated_file_format = '/content/heb-squad/data/intermediate/heb-train-v2.0-{}.tsv'#'/Users/akeidar/temp/squad_train_{}_translated.tsv'"
      ],
      "execution_count": null,
      "outputs": []
    },
    {
      "cell_type": "code",
      "metadata": {
        "id": "g-XBG-IKJmv-"
      },
      "source": [
        "dfs = []\n",
        "\n",
        "for i in range(4):\n",
        "    dfs.append(pd.read_csv(translated_file_format.format(i), sep='\\t', quoting=3, index_col=0))#.dropna(subset=['context_marked'], how='any'))\n",
        "\n",
        "df2 = pd.concat(dfs)"
      ],
      "execution_count": null,
      "outputs": []
    },
    {
      "cell_type": "code",
      "metadata": {
        "id": "cvsQkHzPxUmD"
      },
      "source": [
        "df2['id'] = df2.id.str.strip()\n",
        "df2['context'] = df2.context.str.strip()\n",
        "df2['question'] = df2.question.str.strip()\n",
        "df2['answer'] = df2.answer.str.strip().astype('str')"
      ],
      "execution_count": null,
      "outputs": []
    },
    {
      "cell_type": "markdown",
      "metadata": {
        "id": "DDGdH_9NMYnj"
      },
      "source": [
        "Take a quick look at what we got"
      ]
    },
    {
      "cell_type": "code",
      "metadata": {
        "colab": {
          "base_uri": "https://localhost:8080/"
        },
        "id": "dds1ePO0MXvP",
        "outputId": "f5ee0aa2-b295-411c-f23e-6f5535a8e665"
      },
      "source": [
        "df2.shape"
      ],
      "execution_count": null,
      "outputs": [
        {
          "output_type": "execute_result",
          "data": {
            "text/plain": [
              "(130319, 7)"
            ]
          },
          "metadata": {},
          "execution_count": 13
        }
      ]
    },
    {
      "cell_type": "code",
      "metadata": {
        "colab": {
          "base_uri": "https://localhost:8080/",
          "height": 227
        },
        "id": "_AuNLoVHMbLx",
        "outputId": "f81e0dbe-8e63-44c4-c1b8-a9c65f6a53ba"
      },
      "source": [
        "df2.head(3)"
      ],
      "execution_count": null,
      "outputs": [
        {
          "output_type": "execute_result",
          "data": {
            "text/html": [
              "<div>\n",
              "<style scoped>\n",
              "    .dataframe tbody tr th:only-of-type {\n",
              "        vertical-align: middle;\n",
              "    }\n",
              "\n",
              "    .dataframe tbody tr th {\n",
              "        vertical-align: top;\n",
              "    }\n",
              "\n",
              "    .dataframe thead th {\n",
              "        text-align: right;\n",
              "    }\n",
              "</style>\n",
              "<table border=\"1\" class=\"dataframe\">\n",
              "  <thead>\n",
              "    <tr style=\"text-align: right;\">\n",
              "      <th></th>\n",
              "      <th>id</th>\n",
              "      <th>context</th>\n",
              "      <th>question</th>\n",
              "      <th>answer</th>\n",
              "      <th>answer_start</th>\n",
              "      <th>answer_end</th>\n",
              "      <th>is_impossible</th>\n",
              "    </tr>\n",
              "    <tr>\n",
              "      <th>idx</th>\n",
              "      <th></th>\n",
              "      <th></th>\n",
              "      <th></th>\n",
              "      <th></th>\n",
              "      <th></th>\n",
              "      <th></th>\n",
              "      <th></th>\n",
              "    </tr>\n",
              "  </thead>\n",
              "  <tbody>\n",
              "    <tr>\n",
              "      <th>0</th>\n",
              "      <td>56be85543aeaaa14008c9063</td>\n",
              "      <td>ביונסה ג'יזל נואלס-קרטר (/ biːˈjɒnseɪ/ bee-YON...</td>\n",
              "      <td>מתי ביונסה החלה להיות פופולרית?</td>\n",
              "      <td>בסוף שנות התשעים</td>\n",
              "      <td>269</td>\n",
              "      <td>286</td>\n",
              "      <td>0</td>\n",
              "    </tr>\n",
              "    <tr>\n",
              "      <th>1</th>\n",
              "      <td>56be85543aeaaa14008c9065</td>\n",
              "      <td>ביונסה ג'יזל נואלס-קרטר (/ biːˈjɒnseɪ/ bee-YON...</td>\n",
              "      <td>באילו תחומים ביונסה התחרה כשהתבגר?</td>\n",
              "      <td>שירה וריקודים</td>\n",
              "      <td>207</td>\n",
              "      <td>226</td>\n",
              "      <td>0</td>\n",
              "    </tr>\n",
              "    <tr>\n",
              "      <th>2</th>\n",
              "      <td>56be85543aeaaa14008c9066</td>\n",
              "      <td>ביונסה ג'יזל נואלס-קרטר (/ biːˈjɒnseɪ/ bee-YON...</td>\n",
              "      <td>מתי עזבה ביונסה את Destiny's Child והפכה לזמרת...</td>\n",
              "      <td>2003</td>\n",
              "      <td>526</td>\n",
              "      <td>530</td>\n",
              "      <td>0</td>\n",
              "    </tr>\n",
              "  </tbody>\n",
              "</table>\n",
              "</div>"
            ],
            "text/plain": [
              "                           id  ... is_impossible\n",
              "idx                            ...              \n",
              "0    56be85543aeaaa14008c9063  ...             0\n",
              "1    56be85543aeaaa14008c9065  ...             0\n",
              "2    56be85543aeaaa14008c9066  ...             0\n",
              "\n",
              "[3 rows x 7 columns]"
            ]
          },
          "metadata": {},
          "execution_count": 14
        }
      ]
    },
    {
      "cell_type": "markdown",
      "metadata": {
        "id": "H0ouEJ6CwKPb"
      },
      "source": [
        "### Validate IDs are correct, fix if needed"
      ]
    },
    {
      "cell_type": "markdown",
      "metadata": {
        "id": "ouSkBXTb1yN0"
      },
      "source": [
        "Check how many diffs we have"
      ]
    },
    {
      "cell_type": "code",
      "metadata": {
        "colab": {
          "base_uri": "https://localhost:8080/"
        },
        "id": "2qx5OQDywPxE",
        "outputId": "bc8c7d29-2884-429b-9b3c-eb849229480d"
      },
      "source": [
        "pd.Series(df.id.values == df2.id.values).value_counts()"
      ],
      "execution_count": null,
      "outputs": [
        {
          "output_type": "execute_result",
          "data": {
            "text/plain": [
              "True     129721\n",
              "False       598\n",
              "dtype: int64"
            ]
          },
          "metadata": {},
          "execution_count": 15
        }
      ]
    },
    {
      "cell_type": "markdown",
      "metadata": {
        "id": "w5pFTQUn13YR"
      },
      "source": [
        "Print problematic IDs"
      ]
    },
    {
      "cell_type": "code",
      "metadata": {
        "colab": {
          "base_uri": "https://localhost:8080/"
        },
        "id": "jefCDzbJyHQa",
        "outputId": "79705da6-7b81-404d-f6e7-a33001e82b98"
      },
      "source": [
        "df2.loc[~(df.id.values == df2.id.values), 'id']"
      ],
      "execution_count": null,
      "outputs": [
        {
          "output_type": "execute_result",
          "data": {
            "text/plain": [
              "idx\n",
              "518       56bec4de3aeaaa14008c93 להיות\n",
              "904          56cbe2fd6d243a140015 ערוך\n",
              "937           56cbeb396d243a140015 עדב\n",
              "938           56cbeb396d243a140015 אדי\n",
              "1028                                38\n",
              "                      ...             \n",
              "129776      57359bbcdc94161900571 איאה\n",
              "129778         57359bbcdc94161900571ec\n",
              "129779      57359bbcdc94161900571 הניח\n",
              "129980      עמלת 5735c3d0dc94161900571\n",
              "129986       5735c421dc94161900571 קפה\n",
              "Name: id, Length: 598, dtype: object"
            ]
          },
          "metadata": {},
          "execution_count": 16
        }
      ]
    },
    {
      "cell_type": "markdown",
      "metadata": {
        "id": "p9hzc0Gu15ZM"
      },
      "source": [
        "Print original IDs"
      ]
    },
    {
      "cell_type": "code",
      "metadata": {
        "colab": {
          "base_uri": "https://localhost:8080/"
        },
        "id": "WRZj8yff02ND",
        "outputId": "852a260d-df9e-4e69-cd52-14e260620a3c"
      },
      "source": [
        "df.loc[~(df.id.values == df2.id.values), 'id']"
      ],
      "execution_count": null,
      "outputs": [
        {
          "output_type": "execute_result",
          "data": {
            "text/plain": [
              "idx\n",
              "518       56bec4de3aeaaa14008c93be\n",
              "904       56cbe2fd6d243a140015edce\n",
              "937       56cbeb396d243a140015edeb\n",
              "938       56cbeb396d243a140015edec\n",
              "1028      56cbfbdd6d243a140015ee38\n",
              "                    ...           \n",
              "129776    57359bbcdc94161900571eea\n",
              "129778    57359bbcdc94161900571eec\n",
              "129779    57359bbcdc94161900571eed\n",
              "129980    5735c3d0dc94161900571fee\n",
              "129986    5735c421dc94161900571ffe\n",
              "Name: id, Length: 598, dtype: object"
            ]
          },
          "metadata": {},
          "execution_count": 17
        }
      ]
    },
    {
      "cell_type": "markdown",
      "metadata": {
        "id": "mn-IxjuC1-R4"
      },
      "source": [
        "Replace problematic ids with original ids"
      ]
    },
    {
      "cell_type": "code",
      "metadata": {
        "id": "lSJJK1qy1pZO"
      },
      "source": [
        "df2.loc[~(df.id.values == df2.id.values), 'id'] = df.loc[~(df.id.values == df2.id.values), 'id'].to_list()"
      ],
      "execution_count": null,
      "outputs": []
    },
    {
      "cell_type": "code",
      "metadata": {
        "colab": {
          "base_uri": "https://localhost:8080/"
        },
        "id": "YDG9VMey1P56",
        "outputId": "f4fc0df8-b5a2-4aa9-f7dc-237e2da63bb3"
      },
      "source": [
        "pd.Series(df.id.values == df2.id.values).value_counts()"
      ],
      "execution_count": null,
      "outputs": [
        {
          "output_type": "execute_result",
          "data": {
            "text/plain": [
              "True    130319\n",
              "dtype: int64"
            ]
          },
          "metadata": {},
          "execution_count": 19
        }
      ]
    },
    {
      "cell_type": "markdown",
      "metadata": {
        "id": "b-Kvg3vMwPLP"
      },
      "source": [
        "### Add name of article for creating JSON later"
      ]
    },
    {
      "cell_type": "code",
      "metadata": {
        "colab": {
          "base_uri": "https://localhost:8080/"
        },
        "id": "utKVuG7GMbEr",
        "outputId": "3617bda4-ec70-426c-c128-217b07191fcd"
      },
      "source": [
        "df2['article'] = df.article.to_list()\n",
        "df2.article.value_counts() == df.article.value_counts()"
      ],
      "execution_count": null,
      "outputs": [
        {
          "output_type": "execute_result",
          "data": {
            "text/plain": [
              "Queen_Victoria                                    True\n",
              "New_York_City                                     True\n",
              "American_Idol                                     True\n",
              "Beyoncé                                           True\n",
              "Frédéric_Chopin                                   True\n",
              "                                                  ... \n",
              "Order_of_the_British_Empire                       True\n",
              "Letter_case                                       True\n",
              "Race_and_ethnicity_in_the_United_States_Census    True\n",
              "Grape                                             True\n",
              "Pitch_(music)                                     True\n",
              "Name: article, Length: 442, dtype: bool"
            ]
          },
          "metadata": {},
          "execution_count": 20
        }
      ]
    },
    {
      "cell_type": "markdown",
      "metadata": {
        "id": "fMXvRk5-Mgzs"
      },
      "source": [
        "Remove markers from context, and then print a sample to see if context looks good"
      ]
    },
    {
      "cell_type": "code",
      "metadata": {
        "id": "Kazt3RveMa5t"
      },
      "source": [
        "df2['context_marked'] = df2.context"
      ],
      "execution_count": null,
      "outputs": []
    },
    {
      "cell_type": "code",
      "metadata": {
        "id": "-hdZaOe_Mxtu"
      },
      "source": [
        "df2['context'] = df2.context_marked.str.replace('[0123] ', '', regex=False)\n",
        "df2['context'] = df2.context.str.replace(' [4567]', '', regex=False)"
      ],
      "execution_count": null,
      "outputs": []
    },
    {
      "cell_type": "code",
      "metadata": {
        "colab": {
          "base_uri": "https://localhost:8080/"
        },
        "id": "vOOyY12zMxzi",
        "outputId": "286fe48e-a1fd-4b8e-cddb-fe270c57ade4"
      },
      "source": [
        "df2.iloc[10].context_marked, '', '', df2.iloc[10].context"
      ],
      "execution_count": null,
      "outputs": [
        {
          "output_type": "execute_result",
          "data": {
            "text/plain": [
              "('ביונסה ג\\'יזל נואלס-קרטר (/ biːˈjɒnseɪ/ bee-YON-say) (נולדה ב -4 בספטמבר 1981) היא זמרת, כותבת שירים, מפיקה ושחקנית אמריקאית. היא נולדה וגדלה ביוסטון, טקסס, והופיעה בתחרויות שירה וריקוד בילדותה, ועלתה לתהילה בסוף שנות ה -90 כזמרת להקת הבנות R & B Destiny\\'s Child. בניהולו של אביה, מתיו נואלס, הפכה הקבוצה לאחת מקבוצות הנערות הנמכרות ביותר בכל הזמנים. ההפסקה שלהם יצאה לאור אלבום הבכורה של ביונסה, [0123] Dangerously in Love [4567] (2003), שהקים אותה כאמנית סולו ברחבי העולם, זכתה בחמישה פרסי גראמי והציגה את סינגלי בילבורד הוט 100 מספר אחת \"Crazy in Love \"ו-\" בייבי בוי \".',\n",
              " '',\n",
              " '',\n",
              " 'ביונסה ג\\'יזל נואלס-קרטר (/ biːˈjɒnseɪ/ bee-YON-say) (נולדה ב -4 בספטמבר 1981) היא זמרת, כותבת שירים, מפיקה ושחקנית אמריקאית. היא נולדה וגדלה ביוסטון, טקסס, והופיעה בתחרויות שירה וריקוד בילדותה, ועלתה לתהילה בסוף שנות ה -90 כזמרת להקת הבנות R & B Destiny\\'s Child. בניהולו של אביה, מתיו נואלס, הפכה הקבוצה לאחת מקבוצות הנערות הנמכרות ביותר בכל הזמנים. ההפסקה שלהם יצאה לאור אלבום הבכורה של ביונסה, Dangerously in Love (2003), שהקים אותה כאמנית סולו ברחבי העולם, זכתה בחמישה פרסי גראמי והציגה את סינגלי בילבורד הוט 100 מספר אחת \"Crazy in Love \"ו-\" בייבי בוי \".')"
            ]
          },
          "metadata": {},
          "execution_count": 23
        }
      ]
    },
    {
      "cell_type": "markdown",
      "metadata": {
        "id": "G8bua8qXM5Xk"
      },
      "source": [
        "Calculate the new start and end locations of the answer in the Hebrew context"
      ]
    },
    {
      "cell_type": "code",
      "metadata": {
        "id": "5IeEgpA1Mx2j"
      },
      "source": [
        "df2['answer_start_heb'] = df2.context_marked.str.find('[0123] ')\n",
        "df2['answer_end_heb'] = df2.apply(lambda row: row.context_marked.find(' [4567]', int(row.answer_start_heb)) - len(' [4567]'), axis=1)"
      ],
      "execution_count": null,
      "outputs": []
    },
    {
      "cell_type": "markdown",
      "metadata": {
        "id": "MXazNpnt3eLk"
      },
      "source": [
        "Validate how many rows are problematic and will be discarded"
      ]
    },
    {
      "cell_type": "code",
      "metadata": {
        "colab": {
          "base_uri": "https://localhost:8080/"
        },
        "id": "aviS0D1-3D4H",
        "outputId": "b79333d6-fbd4-43f8-b964-29d24631cff5"
      },
      "source": [
        "print((df2.answer_start_heb >= 0).value_counts())\n",
        "print()\n",
        "print((df2.answer_end_heb >= 0).value_counts())"
      ],
      "execution_count": null,
      "outputs": [
        {
          "output_type": "stream",
          "text": [
            "True     114467\n",
            "False     15852\n",
            "Name: answer_start_heb, dtype: int64\n",
            "\n",
            "True     112644\n",
            "False     17675\n",
            "Name: answer_end_heb, dtype: int64\n"
          ],
          "name": "stdout"
        }
      ]
    },
    {
      "cell_type": "code",
      "metadata": {
        "id": "uTWjMPuDMx5X"
      },
      "source": [
        "for row in df2.sample(30):\n",
        "  df2.iloc[10].context[int(df2.iloc[10].answer_start_heb):int(df2.iloc[10].answer_end_heb)]"
      ],
      "execution_count": null,
      "outputs": []
    },
    {
      "cell_type": "code",
      "metadata": {
        "colab": {
          "base_uri": "https://localhost:8080/"
        },
        "id": "MUPJB-nm40D8",
        "outputId": "ea2092a5-ddf9-4f81-dbda-de6fba9c14b6"
      },
      "source": [
        "for row in df2.sample(10).itertuples():\n",
        "  print(row.question)\n",
        "  print(row.context[int(row.answer_start_heb):int(row.answer_end_heb)])\n",
        "  print()"
      ],
      "execution_count": null,
      "outputs": [
        {
          "output_type": "stream",
          "text": [
            "באיזו רפובליקה הרובע האוטונומי של קראצ'אי לא היה בעבר חלק?\n",
            "\n",
            "\n",
            "איזו מנהרה בארבעה שלבים שימשה באיזו מנהרה בארה\"ב?\n",
            "מנהרת אשד\n",
            "\n",
            "מהו שיעור האוריינות של ניו דלהי על פי מפקד האוכלוסין 2011?\n",
            "89.38%\n",
            "\n",
            "מי היווה יותר ממחצית הסכום?\n",
            "שווקים מתפתחים\n",
            "\n",
            "באיזה תאריך מציינים את יום ההולדת הרשמי של המלכה?\n",
            "הרביעי ביוני\n",
            "\n",
            "כמה אישורים נתנה RIAA לביונסה?\n",
            "64\n",
            "\n",
            "מדוע המערכת של דיואי נחשבת אפריורית?\n",
            "המציאות נקבעת על פי ניסיון העבר\n",
            "\n",
            "היכן ממוקמת ארכיון האינטרנט?\n",
            "סן פרנסיסקו\n",
            "\n",
            "מה הופך את ממשק Windows 8 לקל לשימוש?\n",
            "הוראות שמספקת מערכת ההפעלה לגבי הפונקציות שאליהן ניגשים באמצעות ממשק המשתמש\n",
            "\n",
            "באיזו שנה פרסמה חברתו לשעבר של שוורצנגר ברברה אאוטלנד בייקר את זיכרונותיה?\n",
            "2006\n",
            "\n"
          ],
          "name": "stdout"
        }
      ]
    },
    {
      "cell_type": "markdown",
      "metadata": {
        "id": "U9tkh-5p4GQV"
      },
      "source": [
        "#### Try and fix answers ruined in translation\n",
        "These are rows where the tags surrounding the answer was lost in translation, maeaning we cannot retrieve the correct indices of the answers from the Hebrew translation. We will try to use the translated answer to find the indices in the context."
      ]
    },
    {
      "cell_type": "code",
      "metadata": {
        "id": "pBUQn0Rl4Fi0"
      },
      "source": [
        "mis_ans_df = df2[(df2.answer_start_heb >= df2.answer_end_heb) | (df2.answer_start_heb < 0) | (df2.answer_end_heb < 0)]"
      ],
      "execution_count": null,
      "outputs": []
    },
    {
      "cell_type": "code",
      "metadata": {
        "colab": {
          "base_uri": "https://localhost:8080/"
        },
        "id": "5A0x5QL04jEV",
        "outputId": "3d7dd88c-b494-4658-cbac-7a401b8859c5"
      },
      "source": [
        "mis_ans_df.shape"
      ],
      "execution_count": null,
      "outputs": [
        {
          "output_type": "execute_result",
          "data": {
            "text/plain": [
              "(22895, 11)"
            ]
          },
          "metadata": {},
          "execution_count": 29
        }
      ]
    },
    {
      "cell_type": "code",
      "metadata": {
        "id": "RLS9nlgZ9DPh"
      },
      "source": [
        "new_ans_start = mis_ans_df.apply(lambda row: row.context.find(row.answer), axis=1)\n",
        "new_ans_end = mis_ans_df.apply(lambda row: -1 if (row.context.find(row.answer) == -1) else (row.context.find(row.answer) + len(row.answer)), axis=1)\n",
        "\n",
        "new_ans_start_success = new_ans_start[new_ans_start > -1]\n",
        "new_ans_end_success = new_ans_end[new_ans_end > -1]\n",
        "\n",
        "df2.loc[new_ans_start_success.index, 'answer_start_heb'] = new_ans_start_success.to_list()\n",
        "df2.loc[new_ans_end.index, 'answer_end_heb'] = new_ans_end.to_list()"
      ],
      "execution_count": null,
      "outputs": []
    },
    {
      "cell_type": "code",
      "metadata": {
        "colab": {
          "base_uri": "https://localhost:8080/"
        },
        "id": "k8zBOsYPNDFa",
        "outputId": "a8f7b8e2-b809-46b4-e921-13146e211fb0"
      },
      "source": [
        "print((df2.answer_start_heb >= 0).value_counts())\n",
        "print()\n",
        "print((df2.answer_end_heb >= 0).value_counts())"
      ],
      "execution_count": null,
      "outputs": [
        {
          "output_type": "stream",
          "text": [
            "True     121941\n",
            "False      8378\n",
            "Name: answer_start_heb, dtype: int64\n",
            "\n",
            "True     117895\n",
            "False     12424\n",
            "Name: answer_end_heb, dtype: int64\n"
          ],
          "name": "stdout"
        }
      ]
    },
    {
      "cell_type": "markdown",
      "metadata": {
        "id": "pPET4kqKNJDD"
      },
      "source": [
        "Below we remove rows where the translation deleted the answer markers from the context."
      ]
    },
    {
      "cell_type": "code",
      "metadata": {
        "id": "hkKhuWHRNDIN",
        "colab": {
          "base_uri": "https://localhost:8080/"
        },
        "outputId": "c3e6f479-c591-4ea4-d335-10fc65518aca"
      },
      "source": [
        "print('We will remove', df2[(df2.answer_start_heb >= df2.answer_end_heb) | (df2.answer_start_heb < 0) | (df2.answer_end_heb < 0)].id.nunique(), 'rows out of', df2.id.nunique())"
      ],
      "execution_count": null,
      "outputs": [
        {
          "output_type": "stream",
          "text": [
            "We will remove 12424 rows out of 130319\n"
          ],
          "name": "stdout"
        }
      ]
    },
    {
      "cell_type": "code",
      "metadata": {
        "colab": {
          "base_uri": "https://localhost:8080/"
        },
        "id": "0-N5sBZse9TL",
        "outputId": "784e3640-7eaa-4b99-f244-8578747d8e9e"
      },
      "source": [
        "print('We will remove', df2[(df2.answer_start_heb >= df2.answer_end_heb) | (df2.answer_start_heb < 0) | (df2.answer_end_heb < 0)].id.nunique() / df2.id.nunique() * 100, 'of ids')"
      ],
      "execution_count": null,
      "outputs": [
        {
          "output_type": "stream",
          "text": [
            "We will remove 9.533529262808955 of ids\n"
          ],
          "name": "stdout"
        }
      ]
    },
    {
      "cell_type": "code",
      "metadata": {
        "id": "sJ1DngI7NDLG"
      },
      "source": [
        "df2_clean = df2[(df2.answer_start_heb < df2.answer_end_heb) | (df2.answer_start_heb >= 0) | (df2.answer_end_heb >= 0)]"
      ],
      "execution_count": null,
      "outputs": []
    },
    {
      "cell_type": "code",
      "metadata": {
        "colab": {
          "base_uri": "https://localhost:8080/"
        },
        "id": "DhiFkc7Z_POv",
        "outputId": "e05d686c-854f-4984-e4bb-0235e1f5b9e0"
      },
      "source": [
        "df2_clean.shape"
      ],
      "execution_count": null,
      "outputs": [
        {
          "output_type": "execute_result",
          "data": {
            "text/plain": [
              "(121941, 11)"
            ]
          },
          "metadata": {},
          "execution_count": 34
        }
      ]
    },
    {
      "cell_type": "markdown",
      "metadata": {
        "id": "vd7LlfHyNOsS"
      },
      "source": [
        "Now we can save the df to file, it is ready!"
      ]
    },
    {
      "cell_type": "code",
      "metadata": {
        "id": "ccnek8Am_SLG",
        "colab": {
          "base_uri": "https://localhost:8080/"
        },
        "outputId": "72caa47b-911e-4ca0-840d-e46daa43c354"
      },
      "source": [
        "!mkdir /content/heb-squad/data/final"
      ],
      "execution_count": null,
      "outputs": [
        {
          "output_type": "stream",
          "text": [
            "mkdir: cannot create directory ‘/content/heb-squad/data/final’: File exists\n"
          ],
          "name": "stdout"
        }
      ]
    },
    {
      "cell_type": "code",
      "metadata": {
        "id": "kvt3Q1fcNM5b"
      },
      "source": [
        "df2_clean.to_csv('/content/heb-squad/data/final/heb-train-v2.0.csv', index=False)"
      ],
      "execution_count": null,
      "outputs": []
    },
    {
      "cell_type": "markdown",
      "metadata": {
        "id": "wWH7XOfxZnjo"
      },
      "source": [
        "## Output as JSON in SQuAD format for easy training and evaluation using SQuAD scripts"
      ]
    },
    {
      "cell_type": "code",
      "metadata": {
        "id": "QEsaprFAZnwf"
      },
      "source": [
        "df = pd.read_csv('/content/heb-squad/data/final/heb-train-v2.0.csv')"
      ],
      "execution_count": null,
      "outputs": []
    },
    {
      "cell_type": "code",
      "metadata": {
        "id": "RY-oLoXCZq0i"
      },
      "source": [
        "articles = list(df.article.unique())"
      ],
      "execution_count": null,
      "outputs": []
    },
    {
      "cell_type": "code",
      "metadata": {
        "id": "0fiyTZmCZq2i"
      },
      "source": [
        "squad_dataset = {'version': 'v2.0', 'data': []}\n",
        "\n",
        "for article in articles:\n",
        "  article_dict = {'title': article, 'paragraphs': []}\n",
        "  squad_dataset['data'].append(article_dict)\n",
        "  article_df = df[df.article == article]\n",
        "  paragraphs = list(article_df.context.unique())\n",
        "\n",
        "  for p in paragraphs:\n",
        "    paragraph_dict = {'context': p, 'qas': []}\n",
        "    article_dict['paragraphs'].append(paragraph_dict)\n",
        "    p_df = article_df[article_df.context == p]\n",
        "    questions = list(p_df.question.unique())\n",
        "\n",
        "    for q in questions:\n",
        "      \n",
        "      q_df = p_df[p_df.question == q]\n",
        "      \n",
        "      # Squad saves plausible answers of impossible questions differently\n",
        "      if bool(q_df.iloc[0].is_impossible) is False:\n",
        "        answer_field = 'answers'\n",
        "      else:\n",
        "        answer_field = 'plausible_answers'\n",
        "      \n",
        "      q_dict = {answer_field: []}\n",
        "      \n",
        "      paragraph_dict['qas'].append(q_dict)\n",
        "      \n",
        "      # All rows have same id and is_impssible, so take first\n",
        "      # Transform is_impossible to boolean as we saved it as integer \n",
        "      q_dict['id'] = q_df.iloc[0].id\n",
        "      q_dict['is_impossible'] = bool(q_df.iloc[0].is_impossible)\n",
        "      q_dict['question'] = q\n",
        "\n",
        "      # Only these values are saved in SQuAD data\n",
        "      ans_df = q_df[['answer', 'answer_start_heb']]\n",
        "\n",
        "      for idx, row in ans_df.iterrows():\n",
        "        answer_text, answer_start = row\n",
        "        ans_dict = {'text': answer_text, 'answer_start': answer_start}\n",
        "        q_dict[answer_field].append(ans_dict)\n"
      ],
      "execution_count": null,
      "outputs": []
    },
    {
      "cell_type": "code",
      "metadata": {
        "id": "xlLyAWAEZs7I"
      },
      "source": [
        "with open('/content/heb-squad/data/final/heb-train-v2.0.json', 'w', encoding='utf8') as f_handle:\n",
        "    json.dump(squad_dataset, f_handle, ensure_ascii=False)"
      ],
      "execution_count": null,
      "outputs": []
    }
  ]
}