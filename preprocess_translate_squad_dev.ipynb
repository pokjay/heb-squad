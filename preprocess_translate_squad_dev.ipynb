{
  "nbformat": 4,
  "nbformat_minor": 0,
  "metadata": {
    "colab": {
      "name": "preprocess_translate_squad_dev.ipynb",
      "provenance": [],
      "authorship_tag": "ABX9TyMVG8/OIzSFAzEp2pE0aHYk",
      "include_colab_link": true
    },
    "kernelspec": {
      "name": "python3",
      "display_name": "Python 3"
    },
    "language_info": {
      "name": "python"
    }
  },
  "cells": [
    {
      "cell_type": "markdown",
      "metadata": {
        "id": "view-in-github",
        "colab_type": "text"
      },
      "source": [
        "<a href=\"https://colab.research.google.com/github/pokjay/heb-squad/blob/main/preprocess_translate_squad_dev.ipynb\" target=\"_parent\"><img src=\"https://colab.research.google.com/assets/colab-badge.svg\" alt=\"Open In Colab\"/></a>"
      ]
    },
    {
      "cell_type": "code",
      "metadata": {
        "id": "FSgXJ6Dm9VB3"
      },
      "source": [
        "import json\n",
        "import pandas as pd"
      ],
      "execution_count": null,
      "outputs": []
    },
    {
      "cell_type": "markdown",
      "metadata": {
        "id": "qWLePGXP9lVG"
      },
      "source": [
        "## Convert SQuAD JSON file to Pandas DataFrame"
      ]
    },
    {
      "cell_type": "code",
      "metadata": {
        "colab": {
          "base_uri": "https://localhost:8080/"
        },
        "id": "om-s4P-oFbji",
        "outputId": "dc2bf15a-faa0-4031-b4ee-44f00ed20408"
      },
      "source": [
        "!git clone https://github.com/pokjay/heb-squad"
      ],
      "execution_count": null,
      "outputs": [
        {
          "output_type": "stream",
          "text": [
            "Cloning into 'heb-squad'...\n",
            "remote: Enumerating objects: 64, done.\u001b[K\n",
            "remote: Counting objects: 100% (64/64), done.\u001b[K\n",
            "remote: Compressing objects: 100% (57/57), done.\u001b[K\n",
            "remote: Total 64 (delta 19), reused 36 (delta 5), pack-reused 0\u001b[K\n",
            "Unpacking objects: 100% (64/64), done.\n",
            "Checking out files: 100% (21/21), done.\n"
          ],
          "name": "stdout"
        }
      ]
    },
    {
      "cell_type": "code",
      "metadata": {
        "id": "xu3LK6R29s_j"
      },
      "source": [
        "with open('/content/heb-squad/data/original/dev-v2.0.json') as f_handle:\n",
        "    dataset = json.load(f_handle)"
      ],
      "execution_count": null,
      "outputs": []
    },
    {
      "cell_type": "code",
      "metadata": {
        "id": "SlOJW2EH9xzZ"
      },
      "source": [
        "def handle_answer(article, context, qa, answer_field):\n",
        "\n",
        "  rows = []\n",
        "\n",
        "  for answer in qa[answer_field]:\n",
        "\n",
        "    q = qa['question']\n",
        "    qid = qa['id']\n",
        "    is_impossible = qa['is_impossible']\n",
        "    answer_end = answer['answer_start'] + len(answer['text'])\n",
        "                \n",
        "    context_marked = context[:answer['answer_start']] + \\\n",
        "                    '[0123] ' + \\\n",
        "                    context[answer['answer_start'] : answer_end] + \\\n",
        "                    ' [4567]' \\\n",
        "                    + context[answer_end:]\n",
        "                \n",
        "    row = {'article': article['title'],\n",
        "           'id': qid,\n",
        "           'context': context_marked,\n",
        "           'question': q,\n",
        "           'answer': answer['text'],\n",
        "           'answer_start': answer['answer_start'],\n",
        "           'answer_end': answer_end,\n",
        "           'is_impossible': int(is_impossible)}\n",
        "\n",
        "    rows.append(row)\n",
        "  \n",
        "  return rows"
      ],
      "execution_count": null,
      "outputs": []
    },
    {
      "cell_type": "code",
      "metadata": {
        "id": "qvXHvuPG-lV0"
      },
      "source": [
        "rows = []\n",
        "\n",
        "for article in dataset['data']:\n",
        "  for p in article['paragraphs']:\n",
        "    # Some lines have \\n, we remove them as they screw up translation\n",
        "    context = p['context'].replace('\\n', '')\n",
        "    \n",
        "    for qa in p['qas']:\n",
        "      if 'answers' in qa:\n",
        "        rows.extend(handle_answer(article, context, qa, 'answers'))\n",
        "      if 'plausible_answers' in qa:\n",
        "        rows.extend(handle_answer(article, context, qa, 'plausible_answers'))\n",
        "      \n"
      ],
      "execution_count": null,
      "outputs": []
    },
    {
      "cell_type": "code",
      "metadata": {
        "colab": {
          "base_uri": "https://localhost:8080/"
        },
        "id": "y6jn7kBdGHQv",
        "outputId": "89ea8143-39d3-4ee7-ce77-ac5664666f04"
      },
      "source": [
        "df = pd.DataFrame(rows).fillna(\"\")\n",
        "df.index = df.index.rename('idx')\n",
        "df.shape"
      ],
      "execution_count": null,
      "outputs": [
        {
          "output_type": "execute_result",
          "data": {
            "text/plain": [
              "(26232, 8)"
            ]
          },
          "metadata": {},
          "execution_count": 6
        }
      ]
    },
    {
      "cell_type": "code",
      "metadata": {
        "colab": {
          "base_uri": "https://localhost:8080/",
          "height": 324
        },
        "id": "xlXP8TlJGUwQ",
        "outputId": "dd500502-db8b-47d5-82d1-12949f58e0b1"
      },
      "source": [
        "df.head()"
      ],
      "execution_count": null,
      "outputs": [
        {
          "output_type": "execute_result",
          "data": {
            "text/html": [
              "<div>\n",
              "<style scoped>\n",
              "    .dataframe tbody tr th:only-of-type {\n",
              "        vertical-align: middle;\n",
              "    }\n",
              "\n",
              "    .dataframe tbody tr th {\n",
              "        vertical-align: top;\n",
              "    }\n",
              "\n",
              "    .dataframe thead th {\n",
              "        text-align: right;\n",
              "    }\n",
              "</style>\n",
              "<table border=\"1\" class=\"dataframe\">\n",
              "  <thead>\n",
              "    <tr style=\"text-align: right;\">\n",
              "      <th></th>\n",
              "      <th>article</th>\n",
              "      <th>id</th>\n",
              "      <th>context</th>\n",
              "      <th>question</th>\n",
              "      <th>answer</th>\n",
              "      <th>answer_start</th>\n",
              "      <th>answer_end</th>\n",
              "      <th>is_impossible</th>\n",
              "    </tr>\n",
              "    <tr>\n",
              "      <th>idx</th>\n",
              "      <th></th>\n",
              "      <th></th>\n",
              "      <th></th>\n",
              "      <th></th>\n",
              "      <th></th>\n",
              "      <th></th>\n",
              "      <th></th>\n",
              "      <th></th>\n",
              "    </tr>\n",
              "  </thead>\n",
              "  <tbody>\n",
              "    <tr>\n",
              "      <th>0</th>\n",
              "      <td>Normans</td>\n",
              "      <td>56ddde6b9a695914005b9628</td>\n",
              "      <td>The Normans (Norman: Nourmands; French: Norman...</td>\n",
              "      <td>In what country is Normandy located?</td>\n",
              "      <td>France</td>\n",
              "      <td>159</td>\n",
              "      <td>165</td>\n",
              "      <td>0</td>\n",
              "    </tr>\n",
              "    <tr>\n",
              "      <th>1</th>\n",
              "      <td>Normans</td>\n",
              "      <td>56ddde6b9a695914005b9628</td>\n",
              "      <td>The Normans (Norman: Nourmands; French: Norman...</td>\n",
              "      <td>In what country is Normandy located?</td>\n",
              "      <td>France</td>\n",
              "      <td>159</td>\n",
              "      <td>165</td>\n",
              "      <td>0</td>\n",
              "    </tr>\n",
              "    <tr>\n",
              "      <th>2</th>\n",
              "      <td>Normans</td>\n",
              "      <td>56ddde6b9a695914005b9628</td>\n",
              "      <td>The Normans (Norman: Nourmands; French: Norman...</td>\n",
              "      <td>In what country is Normandy located?</td>\n",
              "      <td>France</td>\n",
              "      <td>159</td>\n",
              "      <td>165</td>\n",
              "      <td>0</td>\n",
              "    </tr>\n",
              "    <tr>\n",
              "      <th>3</th>\n",
              "      <td>Normans</td>\n",
              "      <td>56ddde6b9a695914005b9628</td>\n",
              "      <td>The Normans (Norman: Nourmands; French: Norman...</td>\n",
              "      <td>In what country is Normandy located?</td>\n",
              "      <td>France</td>\n",
              "      <td>159</td>\n",
              "      <td>165</td>\n",
              "      <td>0</td>\n",
              "    </tr>\n",
              "    <tr>\n",
              "      <th>4</th>\n",
              "      <td>Normans</td>\n",
              "      <td>56ddde6b9a695914005b9629</td>\n",
              "      <td>The Normans (Norman: Nourmands; French: Norman...</td>\n",
              "      <td>When were the Normans in Normandy?</td>\n",
              "      <td>10th and 11th centuries</td>\n",
              "      <td>94</td>\n",
              "      <td>117</td>\n",
              "      <td>0</td>\n",
              "    </tr>\n",
              "  </tbody>\n",
              "</table>\n",
              "</div>"
            ],
            "text/plain": [
              "     article                        id  ... answer_end is_impossible\n",
              "idx                                     ...                         \n",
              "0    Normans  56ddde6b9a695914005b9628  ...        165             0\n",
              "1    Normans  56ddde6b9a695914005b9628  ...        165             0\n",
              "2    Normans  56ddde6b9a695914005b9628  ...        165             0\n",
              "3    Normans  56ddde6b9a695914005b9628  ...        165             0\n",
              "4    Normans  56ddde6b9a695914005b9629  ...        117             0\n",
              "\n",
              "[5 rows x 8 columns]"
            ]
          },
          "metadata": {},
          "execution_count": 7
        }
      ]
    },
    {
      "cell_type": "code",
      "metadata": {
        "id": "H6mAzSzfGojT"
      },
      "source": [
        "# df.drop(columns=['article']).to_excel('/content/heb-squad/data/intermediate/dev-v2.0.xlsx', index=True)"
      ],
      "execution_count": null,
      "outputs": []
    },
    {
      "cell_type": "markdown",
      "metadata": {
        "id": "dbcu7BDLHyJU"
      },
      "source": [
        "## 1. Translate XLSX manually using Google Translate Document translator\n",
        "## 2. Run code below processing the translated output"
      ]
    },
    {
      "cell_type": "code",
      "metadata": {
        "id": "g-XBG-IKJmv-"
      },
      "source": [
        "df2 = pd.read_csv('/content/heb-squad/data/intermediate/heb-dev-v2.0.tsv', sep='\\t', quoting=3, index_col=0)"
      ],
      "execution_count": null,
      "outputs": []
    },
    {
      "cell_type": "code",
      "metadata": {
        "id": "cvsQkHzPxUmD"
      },
      "source": [
        "df2['id'] = df2.id.str.strip()\n",
        "df2['context'] = df2.context.str.strip()\n",
        "df2['question'] = df2.question.str.strip()\n",
        "df2['answer'] = df2.answer.str.strip()"
      ],
      "execution_count": null,
      "outputs": []
    },
    {
      "cell_type": "markdown",
      "metadata": {
        "id": "DDGdH_9NMYnj"
      },
      "source": [
        "Take a quick look at what we got"
      ]
    },
    {
      "cell_type": "code",
      "metadata": {
        "colab": {
          "base_uri": "https://localhost:8080/"
        },
        "id": "dds1ePO0MXvP",
        "outputId": "e391cb84-47cb-4377-946e-932ba886faa1"
      },
      "source": [
        "df2.shape"
      ],
      "execution_count": null,
      "outputs": [
        {
          "output_type": "execute_result",
          "data": {
            "text/plain": [
              "(26232, 7)"
            ]
          },
          "metadata": {},
          "execution_count": 11
        }
      ]
    },
    {
      "cell_type": "code",
      "metadata": {
        "colab": {
          "base_uri": "https://localhost:8080/",
          "height": 175
        },
        "id": "_AuNLoVHMbLx",
        "outputId": "631e783e-b63d-418b-d158-54219193f7b8"
      },
      "source": [
        "df2.head(3)"
      ],
      "execution_count": null,
      "outputs": [
        {
          "output_type": "execute_result",
          "data": {
            "text/html": [
              "<div>\n",
              "<style scoped>\n",
              "    .dataframe tbody tr th:only-of-type {\n",
              "        vertical-align: middle;\n",
              "    }\n",
              "\n",
              "    .dataframe tbody tr th {\n",
              "        vertical-align: top;\n",
              "    }\n",
              "\n",
              "    .dataframe thead th {\n",
              "        text-align: right;\n",
              "    }\n",
              "</style>\n",
              "<table border=\"1\" class=\"dataframe\">\n",
              "  <thead>\n",
              "    <tr style=\"text-align: right;\">\n",
              "      <th></th>\n",
              "      <th>id</th>\n",
              "      <th>context</th>\n",
              "      <th>question</th>\n",
              "      <th>answer</th>\n",
              "      <th>answer_start</th>\n",
              "      <th>answer_end</th>\n",
              "      <th>is_impossible</th>\n",
              "    </tr>\n",
              "    <tr>\n",
              "      <th>idx</th>\n",
              "      <th></th>\n",
              "      <th></th>\n",
              "      <th></th>\n",
              "      <th></th>\n",
              "      <th></th>\n",
              "      <th></th>\n",
              "      <th></th>\n",
              "    </tr>\n",
              "  </thead>\n",
              "  <tbody>\n",
              "    <tr>\n",
              "      <th>0</th>\n",
              "      <td>56ddde6b9a695914005b9628</td>\n",
              "      <td>הנורמנים (נורמן: נורמנדים; צרפתית: נורמנדים; ל...</td>\n",
              "      <td>באיזו מדינה נמצאת נורמנדי?</td>\n",
              "      <td>צָרְפַת</td>\n",
              "      <td>159</td>\n",
              "      <td>165</td>\n",
              "      <td>0</td>\n",
              "    </tr>\n",
              "    <tr>\n",
              "      <th>1</th>\n",
              "      <td>56ddde6b9a695914005b9628</td>\n",
              "      <td>הנורמנים (נורמן: נורמנדים; צרפתית: נורמנדים; ל...</td>\n",
              "      <td>באיזו מדינה נמצאת נורמנדי?</td>\n",
              "      <td>צָרְפַת</td>\n",
              "      <td>159</td>\n",
              "      <td>165</td>\n",
              "      <td>0</td>\n",
              "    </tr>\n",
              "    <tr>\n",
              "      <th>2</th>\n",
              "      <td>56ddde6b9a695914005b9628</td>\n",
              "      <td>הנורמנים (נורמן: נורמנדים; צרפתית: נורמנדים; ל...</td>\n",
              "      <td>באיזו מדינה נמצאת נורמנדי?</td>\n",
              "      <td>צָרְפַת</td>\n",
              "      <td>159</td>\n",
              "      <td>165</td>\n",
              "      <td>0</td>\n",
              "    </tr>\n",
              "  </tbody>\n",
              "</table>\n",
              "</div>"
            ],
            "text/plain": [
              "                           id  ... is_impossible\n",
              "idx                            ...              \n",
              "0    56ddde6b9a695914005b9628  ...             0\n",
              "1    56ddde6b9a695914005b9628  ...             0\n",
              "2    56ddde6b9a695914005b9628  ...             0\n",
              "\n",
              "[3 rows x 7 columns]"
            ]
          },
          "metadata": {},
          "execution_count": 12
        }
      ]
    },
    {
      "cell_type": "markdown",
      "metadata": {
        "id": "H0ouEJ6CwKPb"
      },
      "source": [
        "### Validate IDs are correct, fix if needed"
      ]
    },
    {
      "cell_type": "markdown",
      "metadata": {
        "id": "ouSkBXTb1yN0"
      },
      "source": [
        "Check how many diffs we have"
      ]
    },
    {
      "cell_type": "code",
      "metadata": {
        "colab": {
          "base_uri": "https://localhost:8080/"
        },
        "id": "2qx5OQDywPxE",
        "outputId": "41d690fd-26e6-4ddf-9fcb-00db7232a76d"
      },
      "source": [
        "pd.Series(df.id.values == df2.id.values).value_counts()"
      ],
      "execution_count": null,
      "outputs": [
        {
          "output_type": "execute_result",
          "data": {
            "text/plain": [
              "True     26152\n",
              "False       80\n",
              "dtype: int64"
            ]
          },
          "metadata": {},
          "execution_count": 13
        }
      ]
    },
    {
      "cell_type": "markdown",
      "metadata": {
        "id": "w5pFTQUn13YR"
      },
      "source": [
        "Print problematic IDs"
      ]
    },
    {
      "cell_type": "code",
      "metadata": {
        "colab": {
          "base_uri": "https://localhost:8080/"
        },
        "id": "jefCDzbJyHQa",
        "outputId": "7f983318-76e4-4eda-da35-7802e5dc7fe6"
      },
      "source": [
        "df2.loc[~(df.id.values == df2.id.values), 'id']"
      ],
      "execution_count": null,
      "outputs": [
        {
          "output_type": "execute_result",
          "data": {
            "text/plain": [
              "idx\n",
              "34                                 28\n",
              "528       תשלום 56e19557e3433e1400422\n",
              "529       תשלום 56e19557e3433e1400422\n",
              "530       תשלום 56e19557e3433e1400422\n",
              "915          56e1cbe2cd28a01900c67 רע\n",
              "                     ...             \n",
              "25405           5737534ec3c5551400e51\n",
              "25406           5737534ec3c5551400e51\n",
              "25407           5737534ec3c5551400e51\n",
              "25408           5737534ec3c5551400e51\n",
              "25409           5737534ec3c5551400e51\n",
              "Name: id, Length: 80, dtype: object"
            ]
          },
          "metadata": {},
          "execution_count": 14
        }
      ]
    },
    {
      "cell_type": "markdown",
      "metadata": {
        "id": "p9hzc0Gu15ZM"
      },
      "source": [
        "Print original IDs"
      ]
    },
    {
      "cell_type": "code",
      "metadata": {
        "colab": {
          "base_uri": "https://localhost:8080/"
        },
        "id": "WRZj8yff02ND",
        "outputId": "3f8c05b1-1039-49da-ad50-60d2b7c0e875"
      },
      "source": [
        "df.loc[~(df.id.values == df2.id.values), 'id']"
      ],
      "execution_count": null,
      "outputs": [
        {
          "output_type": "execute_result",
          "data": {
            "text/plain": [
              "idx\n",
              "34       5ad3a266604f3c001a3fea28\n",
              "528      56e19557e3433e1400422fee\n",
              "529      56e19557e3433e1400422fee\n",
              "530      56e19557e3433e1400422fee\n",
              "915      56e1cbe2cd28a01900c67bad\n",
              "                   ...           \n",
              "25405    5737534ec3c5551400e51ead\n",
              "25406    5737534ec3c5551400e51ead\n",
              "25407    5737534ec3c5551400e51ead\n",
              "25408    5737534ec3c5551400e51ead\n",
              "25409    5737534ec3c5551400e51ead\n",
              "Name: id, Length: 80, dtype: object"
            ]
          },
          "metadata": {},
          "execution_count": 15
        }
      ]
    },
    {
      "cell_type": "markdown",
      "metadata": {
        "id": "mn-IxjuC1-R4"
      },
      "source": [
        "Replace problematic ids with original ids"
      ]
    },
    {
      "cell_type": "code",
      "metadata": {
        "id": "lSJJK1qy1pZO"
      },
      "source": [
        "df2.loc[~(df.id.values == df2.id.values), 'id'] = df.loc[~(df.id.values == df2.id.values), 'id'].to_list()"
      ],
      "execution_count": null,
      "outputs": []
    },
    {
      "cell_type": "code",
      "metadata": {
        "colab": {
          "base_uri": "https://localhost:8080/"
        },
        "id": "YDG9VMey1P56",
        "outputId": "dc08c5d7-afc2-426d-911a-ca9cb12892cb"
      },
      "source": [
        "pd.Series(df.id.values == df2.id.values).value_counts()"
      ],
      "execution_count": null,
      "outputs": [
        {
          "output_type": "execute_result",
          "data": {
            "text/plain": [
              "True    26232\n",
              "dtype: int64"
            ]
          },
          "metadata": {},
          "execution_count": 17
        }
      ]
    },
    {
      "cell_type": "markdown",
      "metadata": {
        "id": "b-Kvg3vMwPLP"
      },
      "source": [
        "### Add name of article for creating JSON later"
      ]
    },
    {
      "cell_type": "code",
      "metadata": {
        "colab": {
          "base_uri": "https://localhost:8080/"
        },
        "id": "utKVuG7GMbEr",
        "outputId": "b71c0966-1d29-4d03-9f2f-87fb5bd71051"
      },
      "source": [
        "df2['article'] = df.article.to_list()\n",
        "df2.article.value_counts() == df.article.value_counts()"
      ],
      "execution_count": null,
      "outputs": [
        {
          "output_type": "execute_result",
          "data": {
            "text/plain": [
              "Oxygen                                       True\n",
              "Rhine                                        True\n",
              "Economic_inequality                          True\n",
              "Civil_disobedience                           True\n",
              "Imperialism                                  True\n",
              "Force                                        True\n",
              "French_and_Indian_War                        True\n",
              "European_Union_law                           True\n",
              "Warsaw                                       True\n",
              "Steam_engine                                 True\n",
              "Immune_system                                True\n",
              "Yuan_dynasty                                 True\n",
              "Huguenot                                     True\n",
              "Prime_number                                 True\n",
              "Computational_complexity_theory              True\n",
              "Islamism                                     True\n",
              "University_of_Chicago                        True\n",
              "Scottish_Parliament                          True\n",
              "Southern_California                          True\n",
              "Ctenophora                                   True\n",
              "1973_oil_crisis                              True\n",
              "Amazon_rainforest                            True\n",
              "Geology                                      True\n",
              "Packet_switching                             True\n",
              "Fresno,_California                           True\n",
              "Pharmacy                                     True\n",
              "Victoria_(Australia)                         True\n",
              "Harvard_University                           True\n",
              "Private_school                               True\n",
              "Black_Death                                  True\n",
              "Intergovernmental_Panel_on_Climate_Change    True\n",
              "Construction                                 True\n",
              "Sky_(United_Kingdom)                         True\n",
              "Normans                                      True\n",
              "Jacksonville,_Florida                        True\n",
              "Name: article, dtype: bool"
            ]
          },
          "metadata": {},
          "execution_count": 18
        }
      ]
    },
    {
      "cell_type": "markdown",
      "metadata": {
        "id": "fMXvRk5-Mgzs"
      },
      "source": [
        "Remove markers from context, and then print a sample to see if context looks good"
      ]
    },
    {
      "cell_type": "code",
      "metadata": {
        "id": "Kazt3RveMa5t"
      },
      "source": [
        "df2['context_marked'] = df2.context"
      ],
      "execution_count": null,
      "outputs": []
    },
    {
      "cell_type": "code",
      "metadata": {
        "id": "-hdZaOe_Mxtu"
      },
      "source": [
        "df2['context'] = df2.context_marked.str.replace('[0123] ', '', regex=False)\n",
        "df2['context'] = df2.context.str.replace(' [4567]', '', regex=False)"
      ],
      "execution_count": null,
      "outputs": []
    },
    {
      "cell_type": "code",
      "metadata": {
        "colab": {
          "base_uri": "https://localhost:8080/"
        },
        "id": "vOOyY12zMxzi",
        "outputId": "cad5d6f1-521b-4d87-d2e4-92665f816f40"
      },
      "source": [
        "df2.iloc[10].context_marked, '', '', df2.iloc[10].context"
      ],
      "execution_count": null,
      "outputs": [
        {
          "output_type": "execute_result",
          "data": {
            "text/plain": [
              "('הנורמנים (נורמן: נורמנדים; בצרפתית: נורמנדים; בלטינית: Normanni) היו האנשים שבמאות ה -10 וה -11 נתנו את שמם לנורמנדי, אזור בצרפת. הם צאצאים מפושעים ופיראטים נורדים (\"נורמן\" מגיע מ\"נורסמן \") ודנאטים מ [0123] דנמרק, איסלנד ונורווגיה [4567], שתחת מנהיגם רולו הסכימו להישבע לנאמנות למלך צ\\'ארלס השלישי ממערב פרנסיה. באמצעות דורות של התבוללות והתערבבות עם האוכלוסייה הפרנקאית והרומית-גאלית הילידית, צאצאיהם היו מתמזגים בהדרגה עם התרבויות הקרולינגיות של מערב פרנסיה המערבית. הזהות התרבותית והאתנית המובהקת של הנורמנים התפתחה בתחילה במחצית הראשונה של המאה ה -10, והיא המשיכה להתפתח במהלך המאות הבאות.',\n",
              " '',\n",
              " '',\n",
              " 'הנורמנים (נורמן: נורמנדים; בצרפתית: נורמנדים; בלטינית: Normanni) היו האנשים שבמאות ה -10 וה -11 נתנו את שמם לנורמנדי, אזור בצרפת. הם צאצאים מפושעים ופיראטים נורדים (\"נורמן\" מגיע מ\"נורסמן \") ודנאטים מ דנמרק, איסלנד ונורווגיה, שתחת מנהיגם רולו הסכימו להישבע לנאמנות למלך צ\\'ארלס השלישי ממערב פרנסיה. באמצעות דורות של התבוללות והתערבבות עם האוכלוסייה הפרנקאית והרומית-גאלית הילידית, צאצאיהם היו מתמזגים בהדרגה עם התרבויות הקרולינגיות של מערב פרנסיה המערבית. הזהות התרבותית והאתנית המובהקת של הנורמנים התפתחה בתחילה במחצית הראשונה של המאה ה -10, והיא המשיכה להתפתח במהלך המאות הבאות.')"
            ]
          },
          "metadata": {},
          "execution_count": 21
        }
      ]
    },
    {
      "cell_type": "markdown",
      "metadata": {
        "id": "G8bua8qXM5Xk"
      },
      "source": [
        "Calculate the new start and end locations of the answer in the Hebrew context"
      ]
    },
    {
      "cell_type": "code",
      "metadata": {
        "id": "5IeEgpA1Mx2j"
      },
      "source": [
        "df2['answer_start_heb'] = df2.context_marked.str.find('[0123] ')\n",
        "df2['answer_end_heb'] = df2.apply(lambda row: row.context_marked.find(' [4567]', int(row.answer_start_heb)) - len(' [4567]'), axis=1)"
      ],
      "execution_count": null,
      "outputs": []
    },
    {
      "cell_type": "markdown",
      "metadata": {
        "id": "MXazNpnt3eLk"
      },
      "source": [
        "Validate how many rows are problematic and will be discarded"
      ]
    },
    {
      "cell_type": "code",
      "metadata": {
        "colab": {
          "base_uri": "https://localhost:8080/"
        },
        "id": "aviS0D1-3D4H",
        "outputId": "f2e48577-8041-4cf8-faed-657ad6fba8ed"
      },
      "source": [
        "print((df2.answer_start_heb >= 0).value_counts())\n",
        "print()\n",
        "print((df2.answer_end_heb >= 0).value_counts())"
      ],
      "execution_count": null,
      "outputs": [
        {
          "output_type": "stream",
          "text": [
            "True     22566\n",
            "False     3666\n",
            "Name: answer_start_heb, dtype: int64\n",
            "\n",
            "True     22167\n",
            "False     4065\n",
            "Name: answer_end_heb, dtype: int64\n"
          ],
          "name": "stdout"
        }
      ]
    },
    {
      "cell_type": "code",
      "metadata": {
        "id": "uTWjMPuDMx5X"
      },
      "source": [
        "for row in df2.sample(30):\n",
        "  df2.iloc[10].context[int(df2.iloc[10].answer_start_heb):int(df2.iloc[10].answer_end_heb)]"
      ],
      "execution_count": null,
      "outputs": []
    },
    {
      "cell_type": "code",
      "metadata": {
        "colab": {
          "base_uri": "https://localhost:8080/"
        },
        "id": "MUPJB-nm40D8",
        "outputId": "92035da1-4c79-42b2-bb86-cac6eff2b509"
      },
      "source": [
        "for row in df2.sample(10).itertuples():\n",
        "  print(row.question)\n",
        "  print(row.context[int(row.answer_start_heb):int(row.answer_end_heb)])\n",
        "  print()"
      ],
      "execution_count": null,
      "outputs": [
        {
          "output_type": "stream",
          "text": [
            "מתי מת אוגוסטוס?\n",
            "לספירה 14\n",
            "\n",
            "מתי השתלטה צרפת על לונדון?\n",
            "1830\n",
            "\n",
            "באילו אזורים בדרך כלל נמצאים חלקיקי משקעים?\n",
            "מינים של חופים\n",
            "\n",
            "מה מכסה מוזיאון פוג לאמנות?\n",
            "אמנות מערבית מימי הביניים ועד היום\n",
            "\n",
            "מה כוללת התבנית להצעות חוק שהעביר הפרלמנט הסקוטי?\n",
            "[תאריך]\n",
            "\n",
            "מהו הרווח הפוטנציאלי לעבודה שבה מעט עובדים מיומנים אך תפקידים רבים פנויים?\n",
            "שכר גבוה\n",
            "\n",
            "מי ניהל את Datanet 1 עבור KPN?\n",
            "מחלקה אחת ב- KPN\n",
            "\n",
            "אחת האסטרטגיות של האיסלאמיזציה היא לא לתפוס את השלטון באילו שיטות?\n",
            "\n",
            "\n",
            "איזה ארכיאולוג ידוע האמין כי לאמזונס אין תושבים רבים?\n",
            "בטי מגגרס\n",
            "\n",
            "באיזה אמצעים אימפריאליזם לעולם אינו מנוהל?\n",
            "בכוח צבאי\n",
            "\n"
          ],
          "name": "stdout"
        }
      ]
    },
    {
      "cell_type": "markdown",
      "metadata": {
        "id": "U9tkh-5p4GQV"
      },
      "source": [
        "#### Try and fix answers ruined in translation\n",
        "These are rows where the tags surrounding the answer was lost in translation, maeaning we cannot retrieve the correct indices of the answers from the Hebrew translation. We will try to use the translated answer to find the indices in the context."
      ]
    },
    {
      "cell_type": "code",
      "metadata": {
        "id": "pBUQn0Rl4Fi0"
      },
      "source": [
        "mis_ans_df = df2[(df2.answer_start_heb >= df2.answer_end_heb) | (df2.answer_start_heb < 0) | (df2.answer_end_heb < 0)]"
      ],
      "execution_count": null,
      "outputs": []
    },
    {
      "cell_type": "code",
      "metadata": {
        "colab": {
          "base_uri": "https://localhost:8080/"
        },
        "id": "5A0x5QL04jEV",
        "outputId": "9d75357b-a41f-4b46-f00f-09fa7a61120e"
      },
      "source": [
        "mis_ans_df.shape"
      ],
      "execution_count": null,
      "outputs": [
        {
          "output_type": "execute_result",
          "data": {
            "text/plain": [
              "(5302, 11)"
            ]
          },
          "metadata": {},
          "execution_count": 27
        }
      ]
    },
    {
      "cell_type": "code",
      "metadata": {
        "id": "RLS9nlgZ9DPh"
      },
      "source": [
        "new_ans_start = mis_ans_df.apply(lambda row: row.context.find(row.answer), axis=1)\n",
        "new_ans_end = mis_ans_df.apply(lambda row: -1 if (row.context.find(row.answer) == -1) else (row.context.find(row.answer) + len(row.answer)), axis=1)\n",
        "\n",
        "new_ans_start_success = new_ans_start[new_ans_start > -1]\n",
        "new_ans_end_success = new_ans_end[new_ans_end > -1]\n",
        "\n",
        "df2.loc[new_ans_start_success.index, 'answer_start_heb'] = new_ans_start_success.to_list()\n",
        "df2.loc[new_ans_end.index, 'answer_end_heb'] = new_ans_end.to_list()"
      ],
      "execution_count": null,
      "outputs": []
    },
    {
      "cell_type": "code",
      "metadata": {
        "colab": {
          "base_uri": "https://localhost:8080/"
        },
        "id": "k8zBOsYPNDFa",
        "outputId": "3d9d0047-0bfd-45cd-9750-4bbebaf45a71"
      },
      "source": [
        "print((df2.answer_start_heb >= 0).value_counts())\n",
        "print()\n",
        "print((df2.answer_end_heb >= 0).value_counts())"
      ],
      "execution_count": null,
      "outputs": [
        {
          "output_type": "stream",
          "text": [
            "True     24273\n",
            "False     1959\n",
            "Name: answer_start_heb, dtype: int64\n",
            "\n",
            "True     23307\n",
            "False     2925\n",
            "Name: answer_end_heb, dtype: int64\n"
          ],
          "name": "stdout"
        }
      ]
    },
    {
      "cell_type": "markdown",
      "metadata": {
        "id": "pPET4kqKNJDD"
      },
      "source": [
        "Below we remove rows where the translation deleted the answer markers from the context."
      ]
    },
    {
      "cell_type": "code",
      "metadata": {
        "id": "hkKhuWHRNDIN",
        "colab": {
          "base_uri": "https://localhost:8080/"
        },
        "outputId": "4c44dfb1-fd1a-45ec-eee8-8b1699ec80a0"
      },
      "source": [
        "print('We will remove', df2[(df2.answer_start_heb >= df2.answer_end_heb) | (df2.answer_start_heb < 0) | (df2.answer_end_heb < 0)].shape[0], 'rows')"
      ],
      "execution_count": null,
      "outputs": [
        {
          "output_type": "stream",
          "text": [
            "We will remove 2925 rows\n"
          ],
          "name": "stdout"
        }
      ]
    },
    {
      "cell_type": "code",
      "metadata": {
        "colab": {
          "base_uri": "https://localhost:8080/"
        },
        "id": "mjCPUGADfXjO",
        "outputId": "303b61f0-327c-45a2-a195-7a9fd2ba4af7"
      },
      "source": [
        "print('We will remove', df2[(df2.answer_start_heb >= df2.answer_end_heb) | (df2.answer_start_heb < 0) | (df2.answer_end_heb < 0)].id.nunique(), 'ids out of', df2.id.nunique())"
      ],
      "execution_count": null,
      "outputs": [
        {
          "output_type": "stream",
          "text": [
            "We will remove 1654 ids out of 11858\n"
          ],
          "name": "stdout"
        }
      ]
    },
    {
      "cell_type": "code",
      "metadata": {
        "colab": {
          "base_uri": "https://localhost:8080/"
        },
        "id": "AJORqrVafPFF",
        "outputId": "5351f08c-dd6c-4280-f59c-28bde465d3a8"
      },
      "source": [
        "print('We will remove', df2[(df2.answer_start_heb >= df2.answer_end_heb) | (df2.answer_start_heb < 0) | (df2.answer_end_heb < 0)].id.nunique() / df2.id.nunique() * 100, 'of ids')"
      ],
      "execution_count": null,
      "outputs": [
        {
          "output_type": "stream",
          "text": [
            "We will remove 13.948389273064599 of ids\n"
          ],
          "name": "stdout"
        }
      ]
    },
    {
      "cell_type": "code",
      "metadata": {
        "id": "sJ1DngI7NDLG"
      },
      "source": [
        "df2_clean = df2[(df2.answer_start_heb < df2.answer_end_heb) | (df2.answer_start_heb >= 0) | (df2.answer_end_heb >= 0)]"
      ],
      "execution_count": null,
      "outputs": []
    },
    {
      "cell_type": "code",
      "metadata": {
        "colab": {
          "base_uri": "https://localhost:8080/"
        },
        "id": "DhiFkc7Z_POv",
        "outputId": "d7082d13-3128-4d15-9886-0205946737eb"
      },
      "source": [
        "df2_clean.shape"
      ],
      "execution_count": null,
      "outputs": [
        {
          "output_type": "execute_result",
          "data": {
            "text/plain": [
              "(24273, 11)"
            ]
          },
          "metadata": {},
          "execution_count": 32
        }
      ]
    },
    {
      "cell_type": "markdown",
      "metadata": {
        "id": "vd7LlfHyNOsS"
      },
      "source": [
        "Now we can save the df to file, it is ready!"
      ]
    },
    {
      "cell_type": "code",
      "metadata": {
        "id": "ccnek8Am_SLG",
        "colab": {
          "base_uri": "https://localhost:8080/"
        },
        "outputId": "c5cd8b93-e335-44f2-f768-e833795705aa"
      },
      "source": [
        "!mkdir /content/heb-squad/data/final"
      ],
      "execution_count": null,
      "outputs": [
        {
          "output_type": "stream",
          "text": [
            "mkdir: cannot create directory ‘/content/heb-squad/data/final’: File exists\n"
          ],
          "name": "stdout"
        }
      ]
    },
    {
      "cell_type": "code",
      "metadata": {
        "id": "kvt3Q1fcNM5b"
      },
      "source": [
        "df2_clean.to_csv('/content/heb-squad/data/final/heb-dev-v2.0.csv', index=False)"
      ],
      "execution_count": null,
      "outputs": []
    },
    {
      "cell_type": "markdown",
      "metadata": {
        "id": "FJXmwxyt3v8L"
      },
      "source": [
        "*italicized text*## Output as JSON in SQuAD format for easy training and evaluation using SQuAD scripts"
      ]
    },
    {
      "cell_type": "code",
      "metadata": {
        "id": "YoqGWqf68V2H",
        "colab": {
          "base_uri": "https://localhost:8080/"
        },
        "outputId": "ba6524d6-a950-472a-9878-aafac41a4e13"
      },
      "source": [
        "!gzip -d /content/heb-squad/data/final/heb-dev-v2.0.csv.gz"
      ],
      "execution_count": null,
      "outputs": [
        {
          "output_type": "stream",
          "text": [
            "gzip: /content/heb-squad/data/final/heb-dev-v2.0.csv already exists; do you wish to overwrite (y or n)? \n",
            "\tnot overwritten\n"
          ],
          "name": "stdout"
        }
      ]
    },
    {
      "cell_type": "code",
      "metadata": {
        "id": "EPmKtxc837wk"
      },
      "source": [
        "df = pd.read_csv('/content/heb-squad/data/final/heb-dev-v2.0.csv')"
      ],
      "execution_count": null,
      "outputs": []
    },
    {
      "cell_type": "code",
      "metadata": {
        "colab": {
          "base_uri": "https://localhost:8080/",
          "height": 640
        },
        "id": "LJxc4xxP4NJr",
        "outputId": "dc187348-95d7-442d-c6ed-0c2855621858"
      },
      "source": [
        "df.head()"
      ],
      "execution_count": null,
      "outputs": [
        {
          "output_type": "execute_result",
          "data": {
            "text/html": [
              "<div>\n",
              "<style scoped>\n",
              "    .dataframe tbody tr th:only-of-type {\n",
              "        vertical-align: middle;\n",
              "    }\n",
              "\n",
              "    .dataframe tbody tr th {\n",
              "        vertical-align: top;\n",
              "    }\n",
              "\n",
              "    .dataframe thead th {\n",
              "        text-align: right;\n",
              "    }\n",
              "</style>\n",
              "<table border=\"1\" class=\"dataframe\">\n",
              "  <thead>\n",
              "    <tr style=\"text-align: right;\">\n",
              "      <th></th>\n",
              "      <th>id</th>\n",
              "      <th>context</th>\n",
              "      <th>question</th>\n",
              "      <th>answer</th>\n",
              "      <th>answer_start</th>\n",
              "      <th>answer_end</th>\n",
              "      <th>is_impossible</th>\n",
              "      <th>article</th>\n",
              "      <th>context_marked</th>\n",
              "      <th>answer_start_heb</th>\n",
              "      <th>answer_end_heb</th>\n",
              "    </tr>\n",
              "  </thead>\n",
              "  <tbody>\n",
              "    <tr>\n",
              "      <th>0</th>\n",
              "      <td>56ddde6b9a695914005b9628</td>\n",
              "      <td>הנורמנים (נורמן: נורמנדים; צרפתית: נורמנדים; ל...</td>\n",
              "      <td>באיזו מדינה נמצאת נורמנדי?</td>\n",
              "      <td>צָרְפַת</td>\n",
              "      <td>159</td>\n",
              "      <td>165</td>\n",
              "      <td>0</td>\n",
              "      <td>Normans</td>\n",
              "      <td>הנורמנים (נורמן: נורמנדים; צרפתית: נורמנדים; ל...</td>\n",
              "      <td>127</td>\n",
              "      <td>-1</td>\n",
              "    </tr>\n",
              "    <tr>\n",
              "      <th>1</th>\n",
              "      <td>56ddde6b9a695914005b9628</td>\n",
              "      <td>הנורמנים (נורמן: נורמנדים; צרפתית: נורמנדים; ל...</td>\n",
              "      <td>באיזו מדינה נמצאת נורמנדי?</td>\n",
              "      <td>צָרְפַת</td>\n",
              "      <td>159</td>\n",
              "      <td>165</td>\n",
              "      <td>0</td>\n",
              "      <td>Normans</td>\n",
              "      <td>הנורמנים (נורמן: נורמנדים; צרפתית: נורמנדים; ל...</td>\n",
              "      <td>127</td>\n",
              "      <td>-1</td>\n",
              "    </tr>\n",
              "    <tr>\n",
              "      <th>2</th>\n",
              "      <td>56ddde6b9a695914005b9628</td>\n",
              "      <td>הנורמנים (נורמן: נורמנדים; צרפתית: נורמנדים; ל...</td>\n",
              "      <td>באיזו מדינה נמצאת נורמנדי?</td>\n",
              "      <td>צָרְפַת</td>\n",
              "      <td>159</td>\n",
              "      <td>165</td>\n",
              "      <td>0</td>\n",
              "      <td>Normans</td>\n",
              "      <td>הנורמנים (נורמן: נורמנדים; צרפתית: נורמנדים; ל...</td>\n",
              "      <td>127</td>\n",
              "      <td>-1</td>\n",
              "    </tr>\n",
              "    <tr>\n",
              "      <th>3</th>\n",
              "      <td>56ddde6b9a695914005b9628</td>\n",
              "      <td>הנורמנים (נורמן: נורמנדים; צרפתית: נורמנדים; ל...</td>\n",
              "      <td>באיזו מדינה נמצאת נורמנדי?</td>\n",
              "      <td>צָרְפַת</td>\n",
              "      <td>159</td>\n",
              "      <td>165</td>\n",
              "      <td>0</td>\n",
              "      <td>Normans</td>\n",
              "      <td>הנורמנים (נורמן: נורמנדים; צרפתית: נורמנדים; ל...</td>\n",
              "      <td>127</td>\n",
              "      <td>-1</td>\n",
              "    </tr>\n",
              "    <tr>\n",
              "      <th>4</th>\n",
              "      <td>56ddde6b9a695914005b9629</td>\n",
              "      <td>הנורמנים (נורמן: נורמנדס; צרפתית: נורמנדים; לט...</td>\n",
              "      <td>מתי היו הנורמנים בנורמנדי?</td>\n",
              "      <td>המאות ה -10 וה -11</td>\n",
              "      <td>94</td>\n",
              "      <td>117</td>\n",
              "      <td>0</td>\n",
              "      <td>Normans</td>\n",
              "      <td>הנורמנים (נורמן: נורמנדס; צרפתית: נורמנדים; לט...</td>\n",
              "      <td>99</td>\n",
              "      <td>-1</td>\n",
              "    </tr>\n",
              "  </tbody>\n",
              "</table>\n",
              "</div>"
            ],
            "text/plain": [
              "                         id  ... answer_end_heb\n",
              "0  56ddde6b9a695914005b9628  ...             -1\n",
              "1  56ddde6b9a695914005b9628  ...             -1\n",
              "2  56ddde6b9a695914005b9628  ...             -1\n",
              "3  56ddde6b9a695914005b9628  ...             -1\n",
              "4  56ddde6b9a695914005b9629  ...             -1\n",
              "\n",
              "[5 rows x 11 columns]"
            ]
          },
          "metadata": {},
          "execution_count": 37
        }
      ]
    },
    {
      "cell_type": "code",
      "metadata": {
        "colab": {
          "base_uri": "https://localhost:8080/"
        },
        "id": "dh6qu0w74QbQ",
        "outputId": "66778004-c3fb-4096-a38d-4927f25a12b5"
      },
      "source": [
        "for row in df.itertuples():\n",
        "  print(row)\n",
        "  break"
      ],
      "execution_count": null,
      "outputs": [
        {
          "output_type": "stream",
          "text": [
            "Pandas(Index=0, id='56ddde6b9a695914005b9628', context='הנורמנים (נורמן: נורמנדים; צרפתית: נורמנדים; לטינית: Normanni) היו האנשים שבמאות ה -10 וה -11 נתנו את שמם לנורמנדי, אזור בצרפת. הם צאצאים מהנורדים (\"נורמן\" מגיע מ\"נורסמן \") פשיטות ושודדי ים מדנמרק, איסלנד ונורווגיה, שתחת מנהיגם רולו הסכימו להישבע לנאמנות למלך צ\\'ארלס השלישי של מערב פרנסיה. באמצעות דורות של התבוללות והתערבבות עם האוכלוסייה הפרנקאית והרומית-גאלית הילידית, צאצאיהם היו מתמזגים בהדרגה עם התרבויות הקרולינגיות של מערב פרנסיה המערבית. הזהות התרבותית והאתנית המובהקת של הנורמנים התפתחה בתחילה במחצית הראשונה של המאה ה -10, והיא המשיכה להתפתח במהלך המאות הבאות.', question='באיזו מדינה נמצאת נורמנדי?', answer='צָרְפַת', answer_start=159, answer_end=165, is_impossible=0, article='Normans', context_marked='הנורמנים (נורמן: נורמנדים; צרפתית: נורמנדים; לטינית: Normanni) היו האנשים שבמאות ה -10 וה -11 נתנו את שמם לנורמנדי, אזור בצרפת [0123] [4567]. הם צאצאים מהנורדים (\"נורמן\" מגיע מ\"נורסמן \") פשיטות ושודדי ים מדנמרק, איסלנד ונורווגיה, שתחת מנהיגם רולו הסכימו להישבע לנאמנות למלך צ\\'ארלס השלישי של מערב פרנסיה. באמצעות דורות של התבוללות והתערבבות עם האוכלוסייה הפרנקאית והרומית-גאלית הילידית, צאצאיהם היו מתמזגים בהדרגה עם התרבויות הקרולינגיות של מערב פרנסיה המערבית. הזהות התרבותית והאתנית המובהקת של הנורמנים התפתחה בתחילה במחצית הראשונה של המאה ה -10, והיא המשיכה להתפתח במהלך המאות הבאות.', answer_start_heb=127, answer_end_heb=-1)\n"
          ],
          "name": "stdout"
        }
      ]
    },
    {
      "cell_type": "code",
      "metadata": {
        "id": "-JV0zhFm4UeF"
      },
      "source": [
        "articles = list(df.article.unique())"
      ],
      "execution_count": null,
      "outputs": []
    },
    {
      "cell_type": "code",
      "metadata": {
        "id": "70070zSs4hhE"
      },
      "source": [
        "squad_dataset = {'version': 'v2.0', 'data': []}\n",
        "\n",
        "for article in articles:\n",
        "  article_dict = {'title': article, 'paragraphs': []}\n",
        "  squad_dataset['data'].append(article_dict)\n",
        "  article_df = df[df.article == article]\n",
        "  paragraphs = list(article_df.context.unique())\n",
        "\n",
        "  for p in paragraphs:\n",
        "    paragraph_dict = {'context': p, 'qas': []}\n",
        "    article_dict['paragraphs'].append(paragraph_dict)\n",
        "    p_df = article_df[article_df.context == p]\n",
        "    questions = list(p_df.question.unique())\n",
        "\n",
        "    for q in questions:\n",
        "      \n",
        "      q_df = p_df[p_df.question == q]\n",
        "      \n",
        "      # Squad saves plausible answers of impossible questions differently\n",
        "      if bool(q_df.iloc[0].is_impossible) is False:\n",
        "        answer_field = 'answers'\n",
        "      else:\n",
        "        answer_field = 'plausible_answers'\n",
        "      \n",
        "      q_dict = {answer_field: []}\n",
        "      \n",
        "      paragraph_dict['qas'].append(q_dict)\n",
        "      \n",
        "      # All rows have same id and is_impssible, so take first\n",
        "      # Transform is_impossible to boolean as we saved it as integer \n",
        "      q_dict['id'] = q_df.iloc[0].id\n",
        "      q_dict['is_impossible'] = bool(q_df.iloc[0].is_impossible)\n",
        "      q_dict['question'] = q\n",
        "\n",
        "      # Only these values are saved in SQuAD data\n",
        "      ans_df = q_df[['answer', 'answer_start_heb']]\n",
        "\n",
        "      for idx, row in ans_df.iterrows():\n",
        "        answer_text, answer_start = row\n",
        "        ans_dict = {'text': answer_text, 'answer_start': answer_start}\n",
        "        q_dict[answer_field].append(ans_dict)\n"
      ],
      "execution_count": null,
      "outputs": []
    },
    {
      "cell_type": "code",
      "metadata": {
        "id": "s-Yv9yZNAH9m"
      },
      "source": [
        "with open('/content/heb-squad/data/final/heb-dev-v2.0.json', 'w', encoding='utf8') as f_handle:\n",
        "    json.dump(squad_dataset, f_handle, ensure_ascii=False)"
      ],
      "execution_count": null,
      "outputs": []
    },
    {
      "cell_type": "code",
      "metadata": {
        "id": "cowY2TYFDD5i"
      },
      "source": [
        ""
      ],
      "execution_count": null,
      "outputs": []
    }
  ]
}